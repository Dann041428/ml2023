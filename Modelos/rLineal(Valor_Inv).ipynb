{
 "cells": [
  {
   "cell_type": "markdown",
   "id": "dfcedfd6",
   "metadata": {},
   "source": [
    "## Proceso ML"
   ]
  },
  {
   "cell_type": "code",
   "execution_count": 1,
   "id": "057995e6",
   "metadata": {},
   "outputs": [],
   "source": [
    "import pandas as pd\n",
    "import numpy as np\n",
    "import matplotlib.pyplot as plt\n",
    "import seaborn as sns\n",
    "\n",
    "from sklearn.model_selection import train_test_split # permite dividir la data en entrenamiento y prueba\n",
    "from sklearn.linear_model import LinearRegression # implementar el algoritmo de ML ESTE CAMBIA SEGUN EL ALGORITMO\n",
    "from sklearn.preprocessing import minmax_scale #libreria para normalizar los datos \n",
    "from sklearn import metrics\n",
    "from sklearn.metrics import classification_report\n",
    "from sklearn.metrics import confusion_matrix\n",
    "from sklearn.metrics import mean_squared_error, r2_score"
   ]
  },
  {
   "cell_type": "markdown",
   "id": "aec8a969",
   "metadata": {},
   "source": [
    "##  1. Obtención de datos (Lectura de data )"
   ]
  },
  {
   "cell_type": "code",
   "execution_count": 2,
   "id": "104b5fe1",
   "metadata": {},
   "outputs": [
    {
     "data": {
      "text/html": [
       "<div>\n",
       "<style scoped>\n",
       "    .dataframe tbody tr th:only-of-type {\n",
       "        vertical-align: middle;\n",
       "    }\n",
       "\n",
       "    .dataframe tbody tr th {\n",
       "        vertical-align: top;\n",
       "    }\n",
       "\n",
       "    .dataframe thead th {\n",
       "        text-align: right;\n",
       "    }\n",
       "</style>\n",
       "<table border=\"1\" class=\"dataframe\">\n",
       "  <thead>\n",
       "    <tr style=\"text-align: right;\">\n",
       "      <th></th>\n",
       "      <th>año</th>\n",
       "      <th>id_diee</th>\n",
       "      <th>Sect_Econ</th>\n",
       "      <th>tam_empresa</th>\n",
       "      <th>provincia</th>\n",
       "      <th>tic1_inversion</th>\n",
       "      <th>tic2_valor_inversion</th>\n",
       "      <th>tic31_computadoras</th>\n",
       "      <th>tic32_pda</th>\n",
       "      <th>tic33_smartphone</th>\n",
       "      <th>...</th>\n",
       "      <th>tic121_telefonos_celulares</th>\n",
       "      <th>tic122_correo_electronico</th>\n",
       "      <th>tic123_redes_sociales</th>\n",
       "      <th>tic14_especialistas_tic</th>\n",
       "      <th>tic141_especialistas_tic_m</th>\n",
       "      <th>tic142_especialistas_tic_h</th>\n",
       "      <th>tic151_personal_conoc_tic</th>\n",
       "      <th>tic151_personal_conoc_tic_m</th>\n",
       "      <th>tic152_personal_conoc_tic_h</th>\n",
       "      <th>tic16_intranet</th>\n",
       "    </tr>\n",
       "  </thead>\n",
       "  <tbody>\n",
       "    <tr>\n",
       "      <th>0</th>\n",
       "      <td>2012</td>\n",
       "      <td>13582534017</td>\n",
       "      <td>SERVICIOS</td>\n",
       "      <td>PEQUEÑAEMPRESA</td>\n",
       "      <td>AZUAY</td>\n",
       "      <td>No</td>\n",
       "      <td>0.0</td>\n",
       "      <td>5</td>\n",
       "      <td>0</td>\n",
       "      <td>0</td>\n",
       "      <td>...</td>\n",
       "      <td>Si</td>\n",
       "      <td>Si</td>\n",
       "      <td>No</td>\n",
       "      <td>No</td>\n",
       "      <td>NaN</td>\n",
       "      <td>NaN</td>\n",
       "      <td>8</td>\n",
       "      <td>3</td>\n",
       "      <td>5</td>\n",
       "      <td>No</td>\n",
       "    </tr>\n",
       "    <tr>\n",
       "      <th>1</th>\n",
       "      <td>2013</td>\n",
       "      <td>13582673017</td>\n",
       "      <td>SERVICIOS</td>\n",
       "      <td>PEQUEÑAEMPRESA</td>\n",
       "      <td>AZUAY</td>\n",
       "      <td>Si</td>\n",
       "      <td>3634.0</td>\n",
       "      <td>4</td>\n",
       "      <td>0</td>\n",
       "      <td>0</td>\n",
       "      <td>...</td>\n",
       "      <td>Si</td>\n",
       "      <td>Si</td>\n",
       "      <td>No</td>\n",
       "      <td>No</td>\n",
       "      <td>0.0</td>\n",
       "      <td>0.0</td>\n",
       "      <td>0</td>\n",
       "      <td>0</td>\n",
       "      <td>0</td>\n",
       "      <td>No</td>\n",
       "    </tr>\n",
       "    <tr>\n",
       "      <th>2</th>\n",
       "      <td>2014</td>\n",
       "      <td>13582673017</td>\n",
       "      <td>SERVICIOS</td>\n",
       "      <td>PEQUEÑAEMPRESA</td>\n",
       "      <td>AZUAY</td>\n",
       "      <td>No</td>\n",
       "      <td>0.0</td>\n",
       "      <td>3</td>\n",
       "      <td>0</td>\n",
       "      <td>0</td>\n",
       "      <td>...</td>\n",
       "      <td>No</td>\n",
       "      <td>Si</td>\n",
       "      <td>No</td>\n",
       "      <td>No</td>\n",
       "      <td>0.0</td>\n",
       "      <td>0.0</td>\n",
       "      <td>2</td>\n",
       "      <td>2</td>\n",
       "      <td>0</td>\n",
       "      <td>No</td>\n",
       "    </tr>\n",
       "    <tr>\n",
       "      <th>3</th>\n",
       "      <td>2015</td>\n",
       "      <td>13582673017</td>\n",
       "      <td>4</td>\n",
       "      <td>2</td>\n",
       "      <td>101</td>\n",
       "      <td>1</td>\n",
       "      <td>3064.0</td>\n",
       "      <td>3</td>\n",
       "      <td>0</td>\n",
       "      <td>0</td>\n",
       "      <td>...</td>\n",
       "      <td>1</td>\n",
       "      <td>1</td>\n",
       "      <td>2</td>\n",
       "      <td>2</td>\n",
       "      <td>NaN</td>\n",
       "      <td>NaN</td>\n",
       "      <td>0</td>\n",
       "      <td>0</td>\n",
       "      <td>0</td>\n",
       "      <td>2</td>\n",
       "    </tr>\n",
       "    <tr>\n",
       "      <th>4</th>\n",
       "      <td>2013</td>\n",
       "      <td>13582772015</td>\n",
       "      <td>MANUFACTURA</td>\n",
       "      <td>PEQUEÑAEMPRESA</td>\n",
       "      <td>AZUAY</td>\n",
       "      <td>No</td>\n",
       "      <td>0.0</td>\n",
       "      <td>7</td>\n",
       "      <td>0</td>\n",
       "      <td>0</td>\n",
       "      <td>...</td>\n",
       "      <td>Si</td>\n",
       "      <td>Si</td>\n",
       "      <td>No</td>\n",
       "      <td>No</td>\n",
       "      <td>0.0</td>\n",
       "      <td>0.0</td>\n",
       "      <td>0</td>\n",
       "      <td>0</td>\n",
       "      <td>0</td>\n",
       "      <td>No</td>\n",
       "    </tr>\n",
       "    <tr>\n",
       "      <th>...</th>\n",
       "      <td>...</td>\n",
       "      <td>...</td>\n",
       "      <td>...</td>\n",
       "      <td>...</td>\n",
       "      <td>...</td>\n",
       "      <td>...</td>\n",
       "      <td>...</td>\n",
       "      <td>...</td>\n",
       "      <td>...</td>\n",
       "      <td>...</td>\n",
       "      <td>...</td>\n",
       "      <td>...</td>\n",
       "      <td>...</td>\n",
       "      <td>...</td>\n",
       "      <td>...</td>\n",
       "      <td>...</td>\n",
       "      <td>...</td>\n",
       "      <td>...</td>\n",
       "      <td>...</td>\n",
       "      <td>...</td>\n",
       "      <td>...</td>\n",
       "    </tr>\n",
       "    <tr>\n",
       "      <th>15066</th>\n",
       "      <td>2015</td>\n",
       "      <td>46786977223</td>\n",
       "      <td>3</td>\n",
       "      <td>3</td>\n",
       "      <td>322</td>\n",
       "      <td>2</td>\n",
       "      <td>0.0</td>\n",
       "      <td>15</td>\n",
       "      <td>0</td>\n",
       "      <td>0</td>\n",
       "      <td>...</td>\n",
       "      <td>1</td>\n",
       "      <td>1</td>\n",
       "      <td>1</td>\n",
       "      <td>1</td>\n",
       "      <td>0.0</td>\n",
       "      <td>1.0</td>\n",
       "      <td>20</td>\n",
       "      <td>8</td>\n",
       "      <td>12</td>\n",
       "      <td>2</td>\n",
       "    </tr>\n",
       "    <tr>\n",
       "      <th>15067</th>\n",
       "      <td>2015</td>\n",
       "      <td>46789417059</td>\n",
       "      <td>1</td>\n",
       "      <td>3</td>\n",
       "      <td>105</td>\n",
       "      <td>2</td>\n",
       "      <td>0.0</td>\n",
       "      <td>10</td>\n",
       "      <td>0</td>\n",
       "      <td>0</td>\n",
       "      <td>...</td>\n",
       "      <td>1</td>\n",
       "      <td>1</td>\n",
       "      <td>2</td>\n",
       "      <td>2</td>\n",
       "      <td>NaN</td>\n",
       "      <td>NaN</td>\n",
       "      <td>9</td>\n",
       "      <td>4</td>\n",
       "      <td>5</td>\n",
       "      <td>2</td>\n",
       "    </tr>\n",
       "    <tr>\n",
       "      <th>15068</th>\n",
       "      <td>2015</td>\n",
       "      <td>46826132183</td>\n",
       "      <td>4</td>\n",
       "      <td>2</td>\n",
       "      <td>118</td>\n",
       "      <td>1</td>\n",
       "      <td>746.0</td>\n",
       "      <td>4</td>\n",
       "      <td>0</td>\n",
       "      <td>0</td>\n",
       "      <td>...</td>\n",
       "      <td>1</td>\n",
       "      <td>1</td>\n",
       "      <td>1</td>\n",
       "      <td>2</td>\n",
       "      <td>NaN</td>\n",
       "      <td>NaN</td>\n",
       "      <td>4</td>\n",
       "      <td>3</td>\n",
       "      <td>1</td>\n",
       "      <td>2</td>\n",
       "    </tr>\n",
       "    <tr>\n",
       "      <th>15069</th>\n",
       "      <td>2015</td>\n",
       "      <td>46873591188</td>\n",
       "      <td>1</td>\n",
       "      <td>4</td>\n",
       "      <td>118</td>\n",
       "      <td>1</td>\n",
       "      <td>29000.0</td>\n",
       "      <td>29</td>\n",
       "      <td>0</td>\n",
       "      <td>0</td>\n",
       "      <td>...</td>\n",
       "      <td>1</td>\n",
       "      <td>1</td>\n",
       "      <td>1</td>\n",
       "      <td>1</td>\n",
       "      <td>0.0</td>\n",
       "      <td>1.0</td>\n",
       "      <td>33</td>\n",
       "      <td>15</td>\n",
       "      <td>18</td>\n",
       "      <td>1</td>\n",
       "    </tr>\n",
       "    <tr>\n",
       "      <th>15070</th>\n",
       "      <td>2015</td>\n",
       "      <td>47008897090</td>\n",
       "      <td>1</td>\n",
       "      <td>5</td>\n",
       "      <td>209</td>\n",
       "      <td>1</td>\n",
       "      <td>94365.0</td>\n",
       "      <td>252</td>\n",
       "      <td>0</td>\n",
       "      <td>0</td>\n",
       "      <td>...</td>\n",
       "      <td>1</td>\n",
       "      <td>1</td>\n",
       "      <td>1</td>\n",
       "      <td>1</td>\n",
       "      <td>0.0</td>\n",
       "      <td>3.0</td>\n",
       "      <td>1</td>\n",
       "      <td>0</td>\n",
       "      <td>1</td>\n",
       "      <td>2</td>\n",
       "    </tr>\n",
       "  </tbody>\n",
       "</table>\n",
       "<p>15071 rows × 29 columns</p>\n",
       "</div>"
      ],
      "text/plain": [
       "        año      id_diee    Sect_Econ     tam_empresa provincia  \\\n",
       "0      2012  13582534017    SERVICIOS  PEQUEÑAEMPRESA     AZUAY   \n",
       "1      2013  13582673017    SERVICIOS  PEQUEÑAEMPRESA     AZUAY   \n",
       "2      2014  13582673017    SERVICIOS  PEQUEÑAEMPRESA     AZUAY   \n",
       "3      2015  13582673017            4               2       101   \n",
       "4      2013  13582772015  MANUFACTURA  PEQUEÑAEMPRESA     AZUAY   \n",
       "...     ...          ...          ...             ...       ...   \n",
       "15066  2015  46786977223            3               3       322   \n",
       "15067  2015  46789417059            1               3       105   \n",
       "15068  2015  46826132183            4               2       118   \n",
       "15069  2015  46873591188            1               4       118   \n",
       "15070  2015  47008897090            1               5       209   \n",
       "\n",
       "      tic1_inversion  tic2_valor_inversion  tic31_computadoras  tic32_pda  \\\n",
       "0                 No                   0.0                   5          0   \n",
       "1                 Si                3634.0                   4          0   \n",
       "2                 No                   0.0                   3          0   \n",
       "3                  1                3064.0                   3          0   \n",
       "4                 No                   0.0                   7          0   \n",
       "...              ...                   ...                 ...        ...   \n",
       "15066              2                   0.0                  15          0   \n",
       "15067              2                   0.0                  10          0   \n",
       "15068              1                 746.0                   4          0   \n",
       "15069              1               29000.0                  29          0   \n",
       "15070              1               94365.0                 252          0   \n",
       "\n",
       "       tic33_smartphone  ...  tic121_telefonos_celulares  \\\n",
       "0                     0  ...                          Si   \n",
       "1                     0  ...                          Si   \n",
       "2                     0  ...                          No   \n",
       "3                     0  ...                           1   \n",
       "4                     0  ...                          Si   \n",
       "...                 ...  ...                         ...   \n",
       "15066                 0  ...                           1   \n",
       "15067                 0  ...                           1   \n",
       "15068                 0  ...                           1   \n",
       "15069                 0  ...                           1   \n",
       "15070                 0  ...                           1   \n",
       "\n",
       "       tic122_correo_electronico tic123_redes_sociales  \\\n",
       "0                             Si                    No   \n",
       "1                             Si                    No   \n",
       "2                             Si                    No   \n",
       "3                              1                     2   \n",
       "4                             Si                    No   \n",
       "...                          ...                   ...   \n",
       "15066                          1                     1   \n",
       "15067                          1                     2   \n",
       "15068                          1                     1   \n",
       "15069                          1                     1   \n",
       "15070                          1                     1   \n",
       "\n",
       "       tic14_especialistas_tic  tic141_especialistas_tic_m  \\\n",
       "0                           No                         NaN   \n",
       "1                           No                         0.0   \n",
       "2                           No                         0.0   \n",
       "3                            2                         NaN   \n",
       "4                           No                         0.0   \n",
       "...                        ...                         ...   \n",
       "15066                        1                         0.0   \n",
       "15067                        2                         NaN   \n",
       "15068                        2                         NaN   \n",
       "15069                        1                         0.0   \n",
       "15070                        1                         0.0   \n",
       "\n",
       "       tic142_especialistas_tic_h tic151_personal_conoc_tic  \\\n",
       "0                             NaN                         8   \n",
       "1                             0.0                         0   \n",
       "2                             0.0                         2   \n",
       "3                             NaN                         0   \n",
       "4                             0.0                         0   \n",
       "...                           ...                       ...   \n",
       "15066                         1.0                        20   \n",
       "15067                         NaN                         9   \n",
       "15068                         NaN                         4   \n",
       "15069                         1.0                        33   \n",
       "15070                         3.0                         1   \n",
       "\n",
       "      tic151_personal_conoc_tic_m tic152_personal_conoc_tic_h tic16_intranet  \n",
       "0                               3                           5             No  \n",
       "1                               0                           0             No  \n",
       "2                               2                           0             No  \n",
       "3                               0                           0              2  \n",
       "4                               0                           0             No  \n",
       "...                           ...                         ...            ...  \n",
       "15066                           8                          12              2  \n",
       "15067                           4                           5              2  \n",
       "15068                           3                           1              2  \n",
       "15069                          15                          18              1  \n",
       "15070                           0                           1              2  \n",
       "\n",
       "[15071 rows x 29 columns]"
      ]
     },
     "execution_count": 2,
     "metadata": {},
     "output_type": "execute_result"
    }
   ],
   "source": [
    "tesis_df = pd.read_excel('data.xlsx')\n",
    "tesis_df"
   ]
  },
  {
   "cell_type": "markdown",
   "id": "cb36f33c",
   "metadata": {},
   "source": [
    "## Información (resumen) del DataFrame "
   ]
  },
  {
   "cell_type": "code",
   "execution_count": 3,
   "id": "a0e5e5f0",
   "metadata": {},
   "outputs": [
    {
     "name": "stdout",
     "output_type": "stream",
     "text": [
      "<class 'pandas.core.frame.DataFrame'>\n",
      "RangeIndex: 15071 entries, 0 to 15070\n",
      "Data columns (total 29 columns):\n",
      " #   Column                       Non-Null Count  Dtype  \n",
      "---  ------                       --------------  -----  \n",
      " 0   año                          15071 non-null  int64  \n",
      " 1   id_diee                      15071 non-null  int64  \n",
      " 2   Sect_Econ                    15071 non-null  object \n",
      " 3   tam_empresa                  15071 non-null  object \n",
      " 4   provincia                    15071 non-null  object \n",
      " 5   tic1_inversion               15071 non-null  object \n",
      " 6   tic2_valor_inversion         15071 non-null  float64\n",
      " 7   tic31_computadoras           15071 non-null  int64  \n",
      " 8   tic32_pda                    15071 non-null  int64  \n",
      " 9   tic33_smartphone             15071 non-null  int64  \n",
      " 10  tic34_notebooks              15071 non-null  int64  \n",
      " 11  tic35_tablets                15071 non-null  int64  \n",
      " 12  tic5_conexion_internet       15071 non-null  object \n",
      " 13  tic6_personal_total_int      14960 non-null  float64\n",
      " 14  tic61_personal_int_m         10832 non-null  float64\n",
      " 15  tic62_personal_int_h         10832 non-null  float64\n",
      " 16  tic7a_bandaanchafija         14960 non-null  object \n",
      " 17  tic7b_bandaanchamovil        14960 non-null  object \n",
      " 18  tic8_web                     14960 non-null  object \n",
      " 19  tic121_telefonos_celulares   15071 non-null  object \n",
      " 20  tic122_correo_electronico    14960 non-null  object \n",
      " 21  tic123_redes_sociales        14960 non-null  object \n",
      " 22  tic14_especialistas_tic      15071 non-null  object \n",
      " 23  tic141_especialistas_tic_m   8961 non-null   float64\n",
      " 24  tic142_especialistas_tic_h   8961 non-null   float64\n",
      " 25  tic151_personal_conoc_tic    15071 non-null  int64  \n",
      " 26  tic151_personal_conoc_tic_m  15071 non-null  int64  \n",
      " 27  tic152_personal_conoc_tic_h  15071 non-null  int64  \n",
      " 28  tic16_intranet               15071 non-null  object \n",
      "dtypes: float64(6), int64(10), object(13)\n",
      "memory usage: 3.3+ MB\n"
     ]
    }
   ],
   "source": [
    "tesis_df.info()\n"
   ]
  },
  {
   "cell_type": "markdown",
   "id": "51858278",
   "metadata": {},
   "source": [
    "## Estadísticas de las columnas numéricas .describe()"
   ]
  },
  {
   "cell_type": "code",
   "execution_count": 4,
   "id": "d0a25acf",
   "metadata": {},
   "outputs": [
    {
     "data": {
      "text/html": [
       "<div>\n",
       "<style scoped>\n",
       "    .dataframe tbody tr th:only-of-type {\n",
       "        vertical-align: middle;\n",
       "    }\n",
       "\n",
       "    .dataframe tbody tr th {\n",
       "        vertical-align: top;\n",
       "    }\n",
       "\n",
       "    .dataframe thead th {\n",
       "        text-align: right;\n",
       "    }\n",
       "</style>\n",
       "<table border=\"1\" class=\"dataframe\">\n",
       "  <thead>\n",
       "    <tr style=\"text-align: right;\">\n",
       "      <th></th>\n",
       "      <th>año</th>\n",
       "      <th>id_diee</th>\n",
       "      <th>tic2_valor_inversion</th>\n",
       "      <th>tic31_computadoras</th>\n",
       "      <th>tic32_pda</th>\n",
       "      <th>tic33_smartphone</th>\n",
       "      <th>tic34_notebooks</th>\n",
       "      <th>tic35_tablets</th>\n",
       "      <th>tic6_personal_total_int</th>\n",
       "      <th>tic61_personal_int_m</th>\n",
       "      <th>tic62_personal_int_h</th>\n",
       "      <th>tic141_especialistas_tic_m</th>\n",
       "      <th>tic142_especialistas_tic_h</th>\n",
       "      <th>tic151_personal_conoc_tic</th>\n",
       "      <th>tic151_personal_conoc_tic_m</th>\n",
       "      <th>tic152_personal_conoc_tic_h</th>\n",
       "    </tr>\n",
       "  </thead>\n",
       "  <tbody>\n",
       "    <tr>\n",
       "      <th>count</th>\n",
       "      <td>15071.000000</td>\n",
       "      <td>1.507100e+04</td>\n",
       "      <td>1.507100e+04</td>\n",
       "      <td>15071.000000</td>\n",
       "      <td>15071.000000</td>\n",
       "      <td>15071.000000</td>\n",
       "      <td>15071.000000</td>\n",
       "      <td>15071.000000</td>\n",
       "      <td>14960.000000</td>\n",
       "      <td>10832.000000</td>\n",
       "      <td>10832.000000</td>\n",
       "      <td>8961.000000</td>\n",
       "      <td>8961.000000</td>\n",
       "      <td>15071.000000</td>\n",
       "      <td>15071.000000</td>\n",
       "      <td>15071.000000</td>\n",
       "    </tr>\n",
       "    <tr>\n",
       "      <th>mean</th>\n",
       "      <td>2013.407339</td>\n",
       "      <td>1.562120e+10</td>\n",
       "      <td>5.095299e+04</td>\n",
       "      <td>48.223476</td>\n",
       "      <td>1.671356</td>\n",
       "      <td>5.515095</td>\n",
       "      <td>7.176100</td>\n",
       "      <td>1.760799</td>\n",
       "      <td>44.380281</td>\n",
       "      <td>21.189346</td>\n",
       "      <td>27.608013</td>\n",
       "      <td>0.528512</td>\n",
       "      <td>1.416918</td>\n",
       "      <td>9.286311</td>\n",
       "      <td>3.757349</td>\n",
       "      <td>5.528830</td>\n",
       "    </tr>\n",
       "    <tr>\n",
       "      <th>std</th>\n",
       "      <td>1.104505</td>\n",
       "      <td>6.365339e+09</td>\n",
       "      <td>7.557917e+05</td>\n",
       "      <td>244.412819</td>\n",
       "      <td>24.939544</td>\n",
       "      <td>44.431839</td>\n",
       "      <td>63.929901</td>\n",
       "      <td>16.307189</td>\n",
       "      <td>186.458973</td>\n",
       "      <td>78.716732</td>\n",
       "      <td>145.399100</td>\n",
       "      <td>4.721259</td>\n",
       "      <td>7.628427</td>\n",
       "      <td>72.258969</td>\n",
       "      <td>30.576725</td>\n",
       "      <td>43.143868</td>\n",
       "    </tr>\n",
       "    <tr>\n",
       "      <th>min</th>\n",
       "      <td>2012.000000</td>\n",
       "      <td>1.358253e+10</td>\n",
       "      <td>0.000000e+00</td>\n",
       "      <td>0.000000</td>\n",
       "      <td>0.000000</td>\n",
       "      <td>0.000000</td>\n",
       "      <td>0.000000</td>\n",
       "      <td>0.000000</td>\n",
       "      <td>0.000000</td>\n",
       "      <td>0.000000</td>\n",
       "      <td>0.000000</td>\n",
       "      <td>0.000000</td>\n",
       "      <td>0.000000</td>\n",
       "      <td>0.000000</td>\n",
       "      <td>0.000000</td>\n",
       "      <td>0.000000</td>\n",
       "    </tr>\n",
       "    <tr>\n",
       "      <th>25%</th>\n",
       "      <td>2012.000000</td>\n",
       "      <td>1.370831e+10</td>\n",
       "      <td>0.000000e+00</td>\n",
       "      <td>5.000000</td>\n",
       "      <td>0.000000</td>\n",
       "      <td>0.000000</td>\n",
       "      <td>0.000000</td>\n",
       "      <td>0.000000</td>\n",
       "      <td>5.000000</td>\n",
       "      <td>3.000000</td>\n",
       "      <td>2.000000</td>\n",
       "      <td>0.000000</td>\n",
       "      <td>0.000000</td>\n",
       "      <td>0.000000</td>\n",
       "      <td>0.000000</td>\n",
       "      <td>0.000000</td>\n",
       "    </tr>\n",
       "    <tr>\n",
       "      <th>50%</th>\n",
       "      <td>2013.000000</td>\n",
       "      <td>1.382739e+10</td>\n",
       "      <td>0.000000e+00</td>\n",
       "      <td>12.000000</td>\n",
       "      <td>0.000000</td>\n",
       "      <td>0.000000</td>\n",
       "      <td>0.000000</td>\n",
       "      <td>0.000000</td>\n",
       "      <td>12.000000</td>\n",
       "      <td>6.000000</td>\n",
       "      <td>6.000000</td>\n",
       "      <td>0.000000</td>\n",
       "      <td>0.000000</td>\n",
       "      <td>1.000000</td>\n",
       "      <td>0.000000</td>\n",
       "      <td>1.000000</td>\n",
       "    </tr>\n",
       "    <tr>\n",
       "      <th>75%</th>\n",
       "      <td>2014.000000</td>\n",
       "      <td>1.473857e+10</td>\n",
       "      <td>6.570500e+03</td>\n",
       "      <td>30.000000</td>\n",
       "      <td>0.000000</td>\n",
       "      <td>0.000000</td>\n",
       "      <td>1.000000</td>\n",
       "      <td>0.000000</td>\n",
       "      <td>32.000000</td>\n",
       "      <td>16.000000</td>\n",
       "      <td>18.000000</td>\n",
       "      <td>0.000000</td>\n",
       "      <td>1.000000</td>\n",
       "      <td>4.000000</td>\n",
       "      <td>2.000000</td>\n",
       "      <td>2.000000</td>\n",
       "    </tr>\n",
       "    <tr>\n",
       "      <th>max</th>\n",
       "      <td>2015.000000</td>\n",
       "      <td>4.700890e+10</td>\n",
       "      <td>5.400916e+07</td>\n",
       "      <td>8500.000000</td>\n",
       "      <td>1403.000000</td>\n",
       "      <td>2520.000000</td>\n",
       "      <td>3953.000000</td>\n",
       "      <td>1000.000000</td>\n",
       "      <td>8673.000000</td>\n",
       "      <td>3259.000000</td>\n",
       "      <td>5923.000000</td>\n",
       "      <td>346.000000</td>\n",
       "      <td>350.000000</td>\n",
       "      <td>6451.000000</td>\n",
       "      <td>2838.000000</td>\n",
       "      <td>3613.000000</td>\n",
       "    </tr>\n",
       "  </tbody>\n",
       "</table>\n",
       "</div>"
      ],
      "text/plain": [
       "                año       id_diee  tic2_valor_inversion  tic31_computadoras  \\\n",
       "count  15071.000000  1.507100e+04          1.507100e+04        15071.000000   \n",
       "mean    2013.407339  1.562120e+10          5.095299e+04           48.223476   \n",
       "std        1.104505  6.365339e+09          7.557917e+05          244.412819   \n",
       "min     2012.000000  1.358253e+10          0.000000e+00            0.000000   \n",
       "25%     2012.000000  1.370831e+10          0.000000e+00            5.000000   \n",
       "50%     2013.000000  1.382739e+10          0.000000e+00           12.000000   \n",
       "75%     2014.000000  1.473857e+10          6.570500e+03           30.000000   \n",
       "max     2015.000000  4.700890e+10          5.400916e+07         8500.000000   \n",
       "\n",
       "          tic32_pda  tic33_smartphone  tic34_notebooks  tic35_tablets  \\\n",
       "count  15071.000000      15071.000000     15071.000000   15071.000000   \n",
       "mean       1.671356          5.515095         7.176100       1.760799   \n",
       "std       24.939544         44.431839        63.929901      16.307189   \n",
       "min        0.000000          0.000000         0.000000       0.000000   \n",
       "25%        0.000000          0.000000         0.000000       0.000000   \n",
       "50%        0.000000          0.000000         0.000000       0.000000   \n",
       "75%        0.000000          0.000000         1.000000       0.000000   \n",
       "max     1403.000000       2520.000000      3953.000000    1000.000000   \n",
       "\n",
       "       tic6_personal_total_int  tic61_personal_int_m  tic62_personal_int_h  \\\n",
       "count             14960.000000          10832.000000          10832.000000   \n",
       "mean                 44.380281             21.189346             27.608013   \n",
       "std                 186.458973             78.716732            145.399100   \n",
       "min                   0.000000              0.000000              0.000000   \n",
       "25%                   5.000000              3.000000              2.000000   \n",
       "50%                  12.000000              6.000000              6.000000   \n",
       "75%                  32.000000             16.000000             18.000000   \n",
       "max                8673.000000           3259.000000           5923.000000   \n",
       "\n",
       "       tic141_especialistas_tic_m  tic142_especialistas_tic_h  \\\n",
       "count                 8961.000000                 8961.000000   \n",
       "mean                     0.528512                    1.416918   \n",
       "std                      4.721259                    7.628427   \n",
       "min                      0.000000                    0.000000   \n",
       "25%                      0.000000                    0.000000   \n",
       "50%                      0.000000                    0.000000   \n",
       "75%                      0.000000                    1.000000   \n",
       "max                    346.000000                  350.000000   \n",
       "\n",
       "       tic151_personal_conoc_tic  tic151_personal_conoc_tic_m  \\\n",
       "count               15071.000000                 15071.000000   \n",
       "mean                    9.286311                     3.757349   \n",
       "std                    72.258969                    30.576725   \n",
       "min                     0.000000                     0.000000   \n",
       "25%                     0.000000                     0.000000   \n",
       "50%                     1.000000                     0.000000   \n",
       "75%                     4.000000                     2.000000   \n",
       "max                  6451.000000                  2838.000000   \n",
       "\n",
       "       tic152_personal_conoc_tic_h  \n",
       "count                 15071.000000  \n",
       "mean                      5.528830  \n",
       "std                      43.143868  \n",
       "min                       0.000000  \n",
       "25%                       0.000000  \n",
       "50%                       1.000000  \n",
       "75%                       2.000000  \n",
       "max                    3613.000000  "
      ]
     },
     "execution_count": 4,
     "metadata": {},
     "output_type": "execute_result"
    }
   ],
   "source": [
    "tesis_df.describe()"
   ]
  },
  {
   "cell_type": "code",
   "execution_count": 5,
   "id": "b616a1c5",
   "metadata": {},
   "outputs": [
    {
     "data": {
      "text/plain": [
       "año                               0\n",
       "tic151_personal_conoc_tic_m       0\n",
       "tic151_personal_conoc_tic         0\n",
       "tic14_especialistas_tic           0\n",
       "tic121_telefonos_celulares        0\n",
       "tic152_personal_conoc_tic_h       0\n",
       "tic5_conexion_internet            0\n",
       "tic35_tablets                     0\n",
       "tic34_notebooks                   0\n",
       "tic16_intranet                    0\n",
       "tic32_pda                         0\n",
       "id_diee                           0\n",
       "Sect_Econ                         0\n",
       "tam_empresa                       0\n",
       "tic33_smartphone                  0\n",
       "provincia                         0\n",
       "tic1_inversion                    0\n",
       "tic2_valor_inversion              0\n",
       "tic31_computadoras                0\n",
       "tic7a_bandaanchafija            111\n",
       "tic7b_bandaanchamovil           111\n",
       "tic8_web                        111\n",
       "tic122_correo_electronico       111\n",
       "tic123_redes_sociales           111\n",
       "tic6_personal_total_int         111\n",
       "tic62_personal_int_h           4239\n",
       "tic61_personal_int_m           4239\n",
       "tic141_especialistas_tic_m     6110\n",
       "tic142_especialistas_tic_h     6110\n",
       "dtype: int64"
      ]
     },
     "execution_count": 5,
     "metadata": {},
     "output_type": "execute_result"
    }
   ],
   "source": [
    "tesis_df.isna().sum().sort_values()"
   ]
  },
  {
   "cell_type": "code",
   "execution_count": 6,
   "id": "64222904",
   "metadata": {},
   "outputs": [
    {
     "data": {
      "text/plain": [
       "<Axes: >"
      ]
     },
     "execution_count": 6,
     "metadata": {},
     "output_type": "execute_result"
    },
    {
     "data": {
      "image/png": "[encoded data removed]",
      "text/plain": [
       "<Figure size 640x480 with 2 Axes>"
      ]
     },
     "metadata": {},
     "output_type": "display_data"
    }
   ],
   "source": [
    "sns.heatmap(tesis_df.isna())"
   ]
  },
  {
   "cell_type": "code",
   "execution_count": 7,
   "id": "6ea6c27d",
   "metadata": {
    "scrolled": false
   },
   "outputs": [
    {
     "name": "stdout",
     "output_type": "stream",
     "text": [
      "Columna Sect_Econ: 8 opciones\n",
      "Columna tam_empresa: 10 opciones\n",
      "Columna provincia: 48 opciones\n",
      "Columna tic1_inversion: 4 opciones\n",
      "Columna tic5_conexion_internet: 4 opciones\n",
      "Columna tic7a_bandaanchafija: 4 opciones\n",
      "Columna tic7b_bandaanchamovil: 4 opciones\n",
      "Columna tic8_web: 5 opciones\n",
      "Columna tic121_telefonos_celulares: 4 opciones\n",
      "Columna tic122_correo_electronico: 4 opciones\n",
      "Columna tic123_redes_sociales: 4 opciones\n",
      "Columna tic14_especialistas_tic: 4 opciones\n",
      "Columna tic16_intranet: 4 opciones\n"
     ]
    }
   ],
   "source": [
    "# Con este codigo consultamos cuantas categorias o subniveles tiene las columnas tipo objeto  \n",
    "col_categorias =tesis_df.select_dtypes(include=['object']).columns  \n",
    "             \n",
    "for col in col_categorias:\n",
    "    print(f'Columna {col}: {tesis_df[col].nunique()} opciones')"
   ]
  },
  {
   "cell_type": "code",
   "execution_count": 8,
   "id": "6a7b1d8e",
   "metadata": {
    "scrolled": false
   },
   "outputs": [
    {
     "name": "stdout",
     "output_type": "stream",
     "text": [
      "Columna Sect_Econ: ['SERVICIOS' 4 'MANUFACTURA' 'COMERCIO' 3 1 'MINERÍA' 2] \n",
      "Columna tam_empresa: ['PEQUEÑAEMPRESA' 2 'MEDIANAEMPRESAA' 3 'MEDIANAEMPRESAB' 4 'MICROEMPRESA'\n",
      " 5 'GRANDEEMPRESA' 1] \n",
      "Columna provincia: ['AZUAY' 101 'SUCUMBÍOS' 'CARCHI' 'GUAYAS' 209 'MORONASANTIAGO'\n",
      " 'TUNGURAHUA' 'CAÑAR' 'PICHINCHA' 117 'STO.DOMINGODELOSTSÁCHILAS' 123\n",
      " 'ZAMORACHINCHIPE' 319 'ELORO' 207 314 'LOJA' 'COTOPAXI' 105 118 'LOSRÍOS'\n",
      " 'BOLÍVAR' 103 'IMBABURA' 110 104 'ORELLANA' 'CHIMBORAZO' 'MANABÍ' 213 106\n",
      " 'PASTAZA' 316 322 'ESMERALDAS' 208 'GALÁPAGOS' 'SANTAELENA' 212 224 420\n",
      " 111 'NAPO' 315 321 102] \n",
      "Columna tic1_inversion: ['No' 'Si' 1 2] \n",
      "Columna tic5_conexion_internet: ['Si' 1 'No' 2] \n",
      "Columna tic7a_bandaanchafija: ['Si' 1 'No' nan 2] \n",
      "Columna tic7b_bandaanchamovil: ['No' 2 'Si' 1 nan] \n",
      "Columna tic8_web: ['Si' 1 'No' 'Noinforma' 2 nan] \n",
      "Columna tic121_telefonos_celulares: ['Si' 'No' 1 2] \n",
      "Columna tic122_correo_electronico: ['Si' 1 'No' nan 2] \n",
      "Columna tic123_redes_sociales: ['No' 2 'Si' 1 nan] \n",
      "Columna tic14_especialistas_tic: ['No' 2 'Si' 1] \n",
      "Columna tic16_intranet: ['No' 2 'Si' 1] \n"
     ]
    }
   ],
   "source": [
    "# Con este codigo consultamos las categorias o subniveles de las columnas tipo objeto  \n",
    "col_categorias =tesis_df.select_dtypes(include=['object']).columns  \n",
    "             \n",
    "for col in col_categorias:\n",
    "    print(f'Columna {col}: {tesis_df[col].unique()} ')"
   ]
  },
  {
   "cell_type": "code",
   "execution_count": 9,
   "id": "f4413dc8",
   "metadata": {},
   "outputs": [
    {
     "data": {
      "text/plain": [
       "<Axes: xlabel='tic1_inversion', ylabel='count'>"
      ]
     },
     "execution_count": 9,
     "metadata": {},
     "output_type": "execute_result"
    },
    {
     "data": {
      "image/png": "[encoded data removed]",
      "text/plain": [
       "<Figure size 640x480 with 1 Axes>"
      ]
     },
     "metadata": {},
     "output_type": "display_data"
    }
   ],
   "source": [
    "sns.countplot(x=\"tic1_inversion\", data=tesis_df)"
   ]
  },
  {
   "cell_type": "code",
   "execution_count": 10,
   "id": "052aa8e9",
   "metadata": {},
   "outputs": [
    {
     "data": {
      "text/plain": [
       "<Axes: xlabel='Sect_Econ', ylabel='count'>"
      ]
     },
     "execution_count": 10,
     "metadata": {},
     "output_type": "execute_result"
    },
    {
     "data": {
      "image/png": "[encoded data removed]",
      "text/plain": [
       "<Figure size 640x480 with 1 Axes>"
      ]
     },
     "metadata": {},
     "output_type": "display_data"
    }
   ],
   "source": [
    "sns.countplot(x=\"Sect_Econ\", data=tesis_df)"
   ]
  },
  {
   "cell_type": "code",
   "execution_count": 11,
   "id": "0091bf03",
   "metadata": {},
   "outputs": [
    {
     "data": {
      "text/plain": [
       "<Axes: xlabel='tam_empresa', ylabel='count'>"
      ]
     },
     "execution_count": 11,
     "metadata": {},
     "output_type": "execute_result"
    },
    {
     "data": {
      "image/png": "[encoded data removed]",
      "text/plain": [
       "<Figure size 640x480 with 1 Axes>"
      ]
     },
     "metadata": {},
     "output_type": "display_data"
    }
   ],
   "source": [
    "sns.countplot(x=\"tam_empresa\", data=tesis_df)"
   ]
  },
  {
   "cell_type": "code",
   "execution_count": 12,
   "id": "e915973a",
   "metadata": {},
   "outputs": [
    {
     "data": {
      "text/plain": [
       "<Axes: xlabel='provincia', ylabel='count'>"
      ]
     },
     "execution_count": 12,
     "metadata": {},
     "output_type": "execute_result"
    },
    {
     "data": {
      "image/png": "[encoded data removed]",
      "text/plain": [
       "<Figure size 640x480 with 1 Axes>"
      ]
     },
     "metadata": {},
     "output_type": "display_data"
    }
   ],
   "source": [
    "sns.countplot(x=\"provincia\", data=tesis_df)"
   ]
  },
  {
   "cell_type": "code",
   "execution_count": 13,
   "id": "a363e28e",
   "metadata": {},
   "outputs": [
    {
     "data": {
      "text/plain": [
       "<Axes: xlabel='tic1_inversion', ylabel='count'>"
      ]
     },
     "execution_count": 13,
     "metadata": {},
     "output_type": "execute_result"
    },
    {
     "data": {
      "image/png": "[encoded data removed]",
      "text/plain": [
       "<Figure size 640x480 with 1 Axes>"
      ]
     },
     "metadata": {},
     "output_type": "display_data"
    }
   ],
   "source": [
    "sns.countplot(x=\"tic1_inversion\", data=tesis_df, hue=\"año\")"
   ]
  },
  {
   "cell_type": "code",
   "execution_count": 14,
   "id": "793eea02",
   "metadata": {},
   "outputs": [
    {
     "data": {
      "text/plain": [
       "<Axes: xlabel='tic1_inversion', ylabel='count'>"
      ]
     },
     "execution_count": 14,
     "metadata": {},
     "output_type": "execute_result"
    },
    {
     "data": {
      "image/png": "[encoded data removed]",
      "text/plain": [
       "<Figure size 640x480 with 1 Axes>"
      ]
     },
     "metadata": {},
     "output_type": "display_data"
    }
   ],
   "source": [
    "sns.countplot(x=\"tic1_inversion\", data=tesis_df, hue=\"provincia\")"
   ]
  },
  {
   "cell_type": "markdown",
   "id": "861c7068",
   "metadata": {},
   "source": [
    "## 2. Limpieza de datos "
   ]
  },
  {
   "cell_type": "code",
   "execution_count": 15,
   "id": "e4899e68",
   "metadata": {},
   "outputs": [
    {
     "data": {
      "text/plain": [
       "(15071, 29)"
      ]
     },
     "execution_count": 15,
     "metadata": {},
     "output_type": "execute_result"
    }
   ],
   "source": [
    "# Conteo de filas y columnas\n",
    "tesis_df.shape "
   ]
  },
  {
   "cell_type": "code",
   "execution_count": 16,
   "id": "f2a9a607",
   "metadata": {},
   "outputs": [
    {
     "data": {
      "text/plain": [
       "año                               0\n",
       "tic151_personal_conoc_tic_m       0\n",
       "tic151_personal_conoc_tic         0\n",
       "tic14_especialistas_tic           0\n",
       "tic121_telefonos_celulares        0\n",
       "tic152_personal_conoc_tic_h       0\n",
       "tic5_conexion_internet            0\n",
       "tic35_tablets                     0\n",
       "tic34_notebooks                   0\n",
       "tic16_intranet                    0\n",
       "tic32_pda                         0\n",
       "id_diee                           0\n",
       "Sect_Econ                         0\n",
       "tam_empresa                       0\n",
       "tic33_smartphone                  0\n",
       "provincia                         0\n",
       "tic1_inversion                    0\n",
       "tic2_valor_inversion              0\n",
       "tic31_computadoras                0\n",
       "tic7a_bandaanchafija            111\n",
       "tic7b_bandaanchamovil           111\n",
       "tic8_web                        111\n",
       "tic122_correo_electronico       111\n",
       "tic123_redes_sociales           111\n",
       "tic6_personal_total_int         111\n",
       "tic62_personal_int_h           4239\n",
       "tic61_personal_int_m           4239\n",
       "tic141_especialistas_tic_m     6110\n",
       "tic142_especialistas_tic_h     6110\n",
       "dtype: int64"
      ]
     },
     "execution_count": 16,
     "metadata": {},
     "output_type": "execute_result"
    }
   ],
   "source": [
    "# Conteo de datos nulos\n",
    "tesis_df.isna().sum().sort_values()"
   ]
  },
  {
   "cell_type": "code",
   "execution_count": 17,
   "id": "a564ad7b",
   "metadata": {
    "scrolled": true
   },
   "outputs": [
    {
     "data": {
      "text/plain": [
       "Index(['año', 'id_diee', 'Sect_Econ', 'tam_empresa', 'provincia',\n",
       "       'tic1_inversion', 'tic2_valor_inversion', 'tic31_computadoras',\n",
       "       'tic32_pda', 'tic33_smartphone', 'tic34_notebooks', 'tic35_tablets',\n",
       "       'tic5_conexion_internet', 'tic6_personal_total_int',\n",
       "       'tic61_personal_int_m', 'tic62_personal_int_h', 'tic7a_bandaanchafija',\n",
       "       'tic7b_bandaanchamovil', 'tic8_web', 'tic121_telefonos_celulares',\n",
       "       'tic122_correo_electronico', 'tic123_redes_sociales',\n",
       "       'tic14_especialistas_tic', 'tic141_especialistas_tic_m',\n",
       "       'tic142_especialistas_tic_h', 'tic151_personal_conoc_tic',\n",
       "       'tic151_personal_conoc_tic_m', 'tic152_personal_conoc_tic_h',\n",
       "       'tic16_intranet'],\n",
       "      dtype='object')"
      ]
     },
     "execution_count": 17,
     "metadata": {},
     "output_type": "execute_result"
    }
   ],
   "source": [
    "# Muestra los nombres de todas las columnas\n",
    "tesis_df.columns  "
   ]
  },
  {
   "cell_type": "code",
   "execution_count": 18,
   "id": "c2cc7ea0",
   "metadata": {
    "scrolled": true
   },
   "outputs": [
    {
     "data": {
      "text/plain": [
       "año                              0\n",
       "tic151_personal_conoc_tic_m      0\n",
       "tic151_personal_conoc_tic        0\n",
       "tic14_especialistas_tic          0\n",
       "tic121_telefonos_celulares       0\n",
       "tic152_personal_conoc_tic_h      0\n",
       "tic35_tablets                    0\n",
       "tic34_notebooks                  0\n",
       "tic5_conexion_internet           0\n",
       "tic32_pda                        0\n",
       "tic31_computadoras               0\n",
       "tic2_valor_inversion             0\n",
       "tic1_inversion                   0\n",
       "provincia                        0\n",
       "tam_empresa                      0\n",
       "Sect_Econ                        0\n",
       "tic33_smartphone                 0\n",
       "tic16_intranet                   0\n",
       "tic6_personal_total_int        111\n",
       "tic7a_bandaanchafija           111\n",
       "tic7b_bandaanchamovil          111\n",
       "tic8_web                       111\n",
       "tic122_correo_electronico      111\n",
       "tic123_redes_sociales          111\n",
       "dtype: int64"
      ]
     },
     "execution_count": 18,
     "metadata": {},
     "output_type": "execute_result"
    }
   ],
   "source": [
    "# Eliminamos las columnas con exceso de datos nulos que despues\n",
    "# de hacer el analisis se determina que no se puede completar los faltantes \n",
    "# tambien eliminamos la columna id_diee por que se considera relevante\n",
    "\n",
    "tesis_df.drop(['id_diee','tic62_personal_int_h','tic61_personal_int_m','tic141_especialistas_tic_m','tic142_especialistas_tic_h'], axis=1, inplace = True)\n",
    "\n",
    "# Imprimir las columans y datos nulos para verificar las columnas eliminadas\n",
    "tesis_df.isna().sum().sort_values()\n",
    "\n"
   ]
  },
  {
   "cell_type": "code",
   "execution_count": 19,
   "id": "dabae737",
   "metadata": {},
   "outputs": [
    {
     "data": {
      "text/plain": [
       "Index(['año', 'Sector_Económico', 'Tamaño_Empresa', 'Provincia',\n",
       "       'Inversion_Tic', 'Valor_Inversion', 'Computador_cant', 'Pda_cant',\n",
       "       'Celular_cant', 'Notebooks_cant', 'Tablet_cant', 'Conexion_Internet',\n",
       "       'Personal_q_uso_Internet', 'Internet_ba_Fija', 'Internet_ba_Movil',\n",
       "       'Pag_Web', 'Uso_Celular', 'Uso_Email', 'Uso_R_Sociales',\n",
       "       'Especialistas_tic', 'Personal_Conocimiento_tic',\n",
       "       'Mujeres_Conocimiento_tic', 'Hombres_Conocimiento_tic', 'Intranet'],\n",
       "      dtype='object')"
      ]
     },
     "execution_count": 19,
     "metadata": {},
     "output_type": "execute_result"
    }
   ],
   "source": [
    "tesis_df=tesis_df.rename(columns={'Sect_Econ':'Sector_Económico', \n",
    "        'tam_empresa':'Tamaño_Empresa', 'provincia':'Provincia',\n",
    "        'tic1_inversion':'Inversion_Tic','tic2_valor_inversion':'Valor_Inversion', \n",
    "        'tic31_computadoras':'Computador_cant','tic32_pda':'Pda_cant', \n",
    "        'tic33_smartphone':'Celular_cant','tic34_notebooks':'Notebooks_cant', \n",
    "        'tic35_tablets':'Tablet_cant','tic5_conexion_internet':'Conexion_Internet', \n",
    "        'tic6_personal_total_int':'Personal_q_uso_Internet','tic7a_bandaanchafija':'Internet_ba_Fija',\n",
    "        'tic7b_bandaanchamovil':'Internet_ba_Movil','tic121_telefonos_celulares':'Uso_Celular',\n",
    "        'tic122_correo_electronico':'Uso_Email', 'tic123_redes_sociales':'Uso_R_Sociales',\n",
    "        'tic14_especialistas_tic':'Especialistas_tic','tic151_personal_conoc_tic':'Personal_Conocimiento_tic',\n",
    "        'tic151_personal_conoc_tic_m':'Mujeres_Conocimiento_tic', 'tic152_personal_conoc_tic_h':'Hombres_Conocimiento_tic',\n",
    "        'tic16_intranet':'Intranet','tic8_web':'Pag_Web'})\n",
    "\n",
    "tesis_df.columns"
   ]
  },
  {
   "cell_type": "code",
   "execution_count": 20,
   "id": "bce866cf",
   "metadata": {},
   "outputs": [
    {
     "name": "stdout",
     "output_type": "stream",
     "text": [
      "Columna Sector_Económico: ['SERVICIOS' 'MANUFACTURA' 'COMERCIO' 'MINERÍA'] \n",
      "Columna Tamaño_Empresa: ['PEQUEÑA EMPRESA' 'MEDIANA EMPRESA A' 'MEDIANA EMPRESA B' 'MICRO EMPRESA'\n",
      " 'GRANDE EMPRESA'] \n"
     ]
    }
   ],
   "source": [
    "# depuracion de la columnas categoricas (reemplazar datos numericos)\n",
    "\n",
    "# Columna que se refiere al Sector Económico\n",
    "tesis_df['Sector_Económico'] = tesis_df['Sector_Económico'].replace(\n",
    "    {1: 'MANUFACTURA',\n",
    "     2: 'MINERÍA',\n",
    "     3: 'COMERCIO',\n",
    "     4: 'SERVICIOS'})\n",
    "\n",
    "# Columna que se refiere a Tamaño de la Empresa\n",
    "tesis_df['Tamaño_Empresa'] = tesis_df['Tamaño_Empresa'].replace(\n",
    "    {1: 'MICRO EMPRESA',\n",
    "     2: 'PEQUEÑA EMPRESA',\n",
    "     3: 'MEDIANA EMPRESA A',\n",
    "     4: 'MEDIANA EMPRESA B',\n",
    "     5: 'GRANDE EMPRESA',\n",
    "     'MICROEMPRESA': 'MICRO EMPRESA',\n",
    "     'PEQUEÑAEMPRESA': 'PEQUEÑA EMPRESA',\n",
    "     'MEDIANAEMPRESAA': 'MEDIANA EMPRESA A',\n",
    "     'MEDIANAEMPRESAB': 'MEDIANA EMPRESA B',\n",
    "     'GRANDEEMPRESA': 'GRANDE EMPRESA'})\n",
    "\n",
    "col_categorias = tesis_df[['Sector_Económico','Tamaño_Empresa']]  \n",
    "             \n",
    "for col in col_categorias:\n",
    "    print(f'Columna {col}: {tesis_df[col].unique()} ')"
   ]
  },
  {
   "cell_type": "code",
   "execution_count": 21,
   "id": "ec41cf18",
   "metadata": {},
   "outputs": [
    {
     "name": "stdout",
     "output_type": "stream",
     "text": [
      "Columna Inversion_Tic: [0 1] \n",
      "Columna Conexion_Internet: [1 0] \n",
      "Columna Internet_ba_Fija: [ 1.  0. nan] \n",
      "Columna Internet_ba_Movil: [ 0.  1. nan] \n",
      "Columna Uso_Celular: [1 0] \n",
      "Columna Uso_Email: [ 1.  0. nan] \n",
      "Columna Uso_R_Sociales: [ 0.  1. nan] \n",
      "Columna Especialistas_tic: [0 1] \n",
      "Columna Intranet: [0 1] \n",
      "Columna Pag_Web: [ 1.  0. nan] \n"
     ]
    }
   ],
   "source": [
    "# depuracion de la columnas (reemplazar datos str 'SI==1','No==0')\n",
    "\n",
    "# Columna que se refiere Si invirtieron en TIC\n",
    "tesis_df['Inversion_Tic'] = tesis_df['Inversion_Tic'].replace(\n",
    "    {2: 0,\n",
    "     'Si': 1,\n",
    "     'No': 0})\n",
    "\n",
    "# Columna que se refiere Si tuvieron conexion a Internet\n",
    "tesis_df['Conexion_Internet'] = tesis_df['Conexion_Internet'].replace(\n",
    "    {2: 0,\n",
    "     'Si': 1,\n",
    "     'No': 0})\n",
    "\n",
    "\n",
    "# Columna que se refiere Si usaron internet de banda ancha fija  \n",
    "tesis_df['Internet_ba_Fija'] = tesis_df['Internet_ba_Fija'].replace(\n",
    "    {2: 0,\n",
    "     'Si': 1,\n",
    "     'No': 0})\n",
    "\n",
    "# Columna que se refiere Si Si usaron internet de banda ancha movil  \n",
    "tesis_df['Internet_ba_Movil'] = tesis_df['Internet_ba_Movil'].replace(\n",
    "    {2: 0,\n",
    "     'Si': 1,\n",
    "     'No': 0})\n",
    "\n",
    "\n",
    "# Columna que se refiere Si usaron telefonos celulares\n",
    "tesis_df['Uso_Celular'] = tesis_df['Uso_Celular'].replace(\n",
    "    {2: 0,\n",
    "     'Si': 1,\n",
    "     'No': 0})\n",
    "\n",
    "# Columna que se refiere Si usaron correo electronico\n",
    "tesis_df['Uso_Email'] = tesis_df['Uso_Email'].replace(\n",
    "    {2: 0,\n",
    "     'Si': 1,\n",
    "     'No': 0})\n",
    "\n",
    "# Columna que se refiere Si usaron redes sociales\n",
    "tesis_df['Uso_R_Sociales'] = tesis_df['Uso_R_Sociales'].replace(\n",
    "    {2: 0,\n",
    "     'Si': 1,\n",
    "     'No': 0})\n",
    "\n",
    "# Columna que se refiere Si tuvieron personal especialistas en TIC \n",
    "tesis_df['Especialistas_tic'] = tesis_df['Especialistas_tic'].replace(\n",
    "    {2: 0,\n",
    "     'Si': 1,\n",
    "     'No': 0})\n",
    "\n",
    "\n",
    "\n",
    "# Columna que se refiere Si tuvieron Página Web \n",
    "tesis_df['Pag_Web'] = tesis_df['Pag_Web'].replace(\n",
    "    {2: 0,\n",
    "     'Si': 1,\n",
    "     'No': 0,\n",
    "     'Noinforma':0})\n",
    "\n",
    "# Columna que se refiere Si tuvieron Intranet\n",
    "tesis_df['Intranet'] = tesis_df['Intranet'].replace(\n",
    "    {2: 0,\n",
    "     'Si': 1,\n",
    "     'No': 0})\n",
    "\n",
    "\n",
    "col_categorias = tesis_df[['Inversion_Tic','Conexion_Internet',\n",
    "                           'Internet_ba_Fija','Internet_ba_Movil',\n",
    "                           'Uso_Celular','Uso_Email',\n",
    "                           'Uso_R_Sociales','Especialistas_tic',\n",
    "                           'Intranet','Pag_Web']]  \n",
    "             \n",
    "for col in col_categorias:\n",
    "    print(f'Columna {col}: {tesis_df[col].unique()} ')"
   ]
  },
  {
   "cell_type": "code",
   "execution_count": 22,
   "id": "3298fd70",
   "metadata": {},
   "outputs": [
    {
     "data": {
      "text/plain": [
       "1.0    13779\n",
       "0.0     1181\n",
       "Name: Internet_ba_Fija, dtype: int64"
      ]
     },
     "execution_count": 22,
     "metadata": {},
     "output_type": "execute_result"
    }
   ],
   "source": [
    "# contar los datos de la columan Internet_ba_Fija para corroborar \n",
    "# que no haya mofificaciones equivocadas\n",
    "\n",
    "tesis_df['Internet_ba_Fija'].value_counts()"
   ]
  },
  {
   "cell_type": "code",
   "execution_count": 23,
   "id": "bf542932",
   "metadata": {},
   "outputs": [],
   "source": [
    "# Completar los datos nulos de las columnas 'Internet_ba_Fija'\n",
    "# 'Internet_ba_Movil', 'Uso_Email','Uso_R_Sociales','Personal_q_uso_Internet' \n",
    "# ya que por deduccion si no tuvieron conexion a internet no usaron\n",
    "# ba fija, ba movil, email ni redes sociales\n",
    "\n",
    "# creamos una funcion internet 0 = ba_fija 0\n",
    "def sin_internet(columnas): # columnas Conexion_Internet y Internet_ba_Fija\n",
    "    ba_fija = columnas[0]\n",
    "    internet = columnas[1]\n",
    "    if pd.isnull(ba_fija):\n",
    "        if internet == 0:\n",
    "            return 0\n",
    "    else:\n",
    "        return ba_fija\n",
    "\n",
    "# invocar la funcion sin_internet\n",
    "tesis_df[\"Internet_ba_Fija\"] = tesis_df[[\"Internet_ba_Fija\",\"Conexion_Internet\"]].apply(sin_internet, axis=1)\n"
   ]
  },
  {
   "cell_type": "code",
   "execution_count": 24,
   "id": "5ac5f64c",
   "metadata": {},
   "outputs": [
    {
     "data": {
      "text/plain": [
       "1.0    13779\n",
       "0.0     1292\n",
       "Name: Internet_ba_Fija, dtype: int64"
      ]
     },
     "execution_count": 24,
     "metadata": {},
     "output_type": "execute_result"
    }
   ],
   "source": [
    "# Comprobacion de la modificacion de datos nulos\n",
    "tesis_df['Internet_ba_Fija'].value_counts()"
   ]
  },
  {
   "cell_type": "code",
   "execution_count": 25,
   "id": "a2ac2671",
   "metadata": {},
   "outputs": [],
   "source": [
    "# Despues de comprobar la funcion para completar los datos nulos \n",
    "# de la columna 'Internet_ba_Fija' continuamos con las demas columnas\n",
    "\n",
    "# creamos una funcion internet 0 = ba_movil 0\n",
    "def sin_internet1(columnas): # columnas Conexion_Internet y Internet_ba_Movil\n",
    "    ba_movil = columnas[0]\n",
    "    internet = columnas[1]\n",
    "    if pd.isnull(ba_movil):\n",
    "        if internet == 0:\n",
    "            return 0\n",
    "    else:\n",
    "        return ba_movil\n",
    "\n",
    "# invocar la funcion sin_internet1\n",
    "tesis_df[\"Internet_ba_Movil\"] = tesis_df[[\"Internet_ba_Movil\",\"Conexion_Internet\"]].apply(sin_internet1, axis=1)\n"
   ]
  },
  {
   "cell_type": "code",
   "execution_count": 26,
   "id": "19776c57",
   "metadata": {},
   "outputs": [],
   "source": [
    "# Despues de comprobar la funcion para completar los datos nulos \n",
    "# de la columna 'Internet_ba_Fija' continuamos con las demas columnas\n",
    "\n",
    "# creamos una funcion internet 0 = Email 0\n",
    "def sin_internet2(columnas): # columnas Conexion_Internet y Uso_Email\n",
    "    email = columnas[0]\n",
    "    internet = columnas[1]\n",
    "    if pd.isnull(email):\n",
    "        if internet == 0:\n",
    "            return 0\n",
    "    else:\n",
    "        return email\n",
    "\n",
    "# invocar la funcion sin_internet2\n",
    "tesis_df[\"Uso_Email\"] = tesis_df[[\"Uso_Email\",\"Conexion_Internet\"]].apply(sin_internet2, axis=1)\n"
   ]
  },
  {
   "cell_type": "code",
   "execution_count": 27,
   "id": "f3d2fe88",
   "metadata": {},
   "outputs": [],
   "source": [
    "# Despues de comprobar la funcion para completar los datos nulos \n",
    "# de la columna 'Internet_ba_Fija' continuamos con las demas columnas\n",
    "\n",
    "# creamos una funcion internet 0 = R_Sociales 0\n",
    "def sin_internet3(columnas): # columnas Conexion_Internet y Uso_R_Sociales\n",
    "    r_social = columnas[0]\n",
    "    internet = columnas[1]\n",
    "    if pd.isnull(r_social):\n",
    "        if internet == 0:\n",
    "            return 0\n",
    "    else:\n",
    "        return r_social\n",
    "\n",
    "# invocar la funcion sin_internet3\n",
    "tesis_df[\"Uso_R_Sociales\"] = tesis_df[[\"Uso_R_Sociales\",\"Conexion_Internet\"]].apply(sin_internet3, axis=1)\n"
   ]
  },
  {
   "cell_type": "code",
   "execution_count": 28,
   "id": "dde3a949",
   "metadata": {},
   "outputs": [],
   "source": [
    "# Despues de comprobar la funcion para completar los datos nulos \n",
    "# de la columna 'Internet_ba_Fija' continuamos con las demas columnas\n",
    "\n",
    "# creamos una funcion internet 0 = Personal_q_uso_Internet 0\n",
    "def sin_internet4(columnas): # columnas Conexion_Internet y Personal_q_uso_Internet\n",
    "    uso_internet = columnas[0]\n",
    "    internet = columnas[1]\n",
    "    if pd.isnull(uso_internet):\n",
    "        if internet == 0:\n",
    "            return 0\n",
    "    else:\n",
    "        return uso_internet\n",
    "\n",
    "# invocar la funcion sin_internet4\n",
    "tesis_df[\"Personal_q_uso_Internet\"] = tesis_df[[\"Personal_q_uso_Internet\",\"Conexion_Internet\"]].apply(sin_internet4, axis=1)\n"
   ]
  },
  {
   "cell_type": "code",
   "execution_count": 29,
   "id": "440f47ed",
   "metadata": {},
   "outputs": [],
   "source": [
    "# Despues de comprobar la funcion para completar los datos nulos \n",
    "# de la columna 'Internet_ba_Fija' continuamos con las demas columnas\n",
    "\n",
    "# creamos una funcion internet 0 = Personal_q_uso_Internet 0\n",
    "def sin_internet5(columnas): # columnas Conexion_Internet y Pag_Web\n",
    "    pag_web = columnas[0]\n",
    "    internet = columnas[1]\n",
    "    if pd.isnull(pag_web):\n",
    "        if internet == 0:\n",
    "            return 0\n",
    "    else:\n",
    "        return pag_web\n",
    "\n",
    "# invocar la funcion sin_internet5\n",
    "tesis_df[\"Pag_Web\"] = tesis_df[[\"Pag_Web\",\"Conexion_Internet\"]].apply(sin_internet5, axis=1)\n"
   ]
  },
  {
   "cell_type": "code",
   "execution_count": 30,
   "id": "d3a71f02",
   "metadata": {
    "scrolled": true
   },
   "outputs": [
    {
     "name": "stdout",
     "output_type": "stream",
     "text": [
      "<class 'pandas.core.frame.DataFrame'>\n",
      "RangeIndex: 15071 entries, 0 to 15070\n",
      "Data columns (total 24 columns):\n",
      " #   Column                     Non-Null Count  Dtype  \n",
      "---  ------                     --------------  -----  \n",
      " 0   año                        15071 non-null  int64  \n",
      " 1   Sector_Económico           15071 non-null  object \n",
      " 2   Tamaño_Empresa             15071 non-null  object \n",
      " 3   Provincia                  15071 non-null  object \n",
      " 4   Inversion_Tic              15071 non-null  int64  \n",
      " 5   Valor_Inversion            15071 non-null  float64\n",
      " 6   Computador_cant            15071 non-null  int64  \n",
      " 7   Pda_cant                   15071 non-null  int64  \n",
      " 8   Celular_cant               15071 non-null  int64  \n",
      " 9   Notebooks_cant             15071 non-null  int64  \n",
      " 10  Tablet_cant                15071 non-null  int64  \n",
      " 11  Conexion_Internet          15071 non-null  int64  \n",
      " 12  Personal_q_uso_Internet    15071 non-null  float64\n",
      " 13  Internet_ba_Fija           15071 non-null  float64\n",
      " 14  Internet_ba_Movil          15071 non-null  float64\n",
      " 15  Pag_Web                    15071 non-null  float64\n",
      " 16  Uso_Celular                15071 non-null  int64  \n",
      " 17  Uso_Email                  15071 non-null  float64\n",
      " 18  Uso_R_Sociales             15071 non-null  float64\n",
      " 19  Especialistas_tic          15071 non-null  int64  \n",
      " 20  Personal_Conocimiento_tic  15071 non-null  int64  \n",
      " 21  Mujeres_Conocimiento_tic   15071 non-null  int64  \n",
      " 22  Hombres_Conocimiento_tic   15071 non-null  int64  \n",
      " 23  Intranet                   15071 non-null  int64  \n",
      "dtypes: float64(7), int64(14), object(3)\n",
      "memory usage: 2.8+ MB\n"
     ]
    }
   ],
   "source": [
    "tesis_df.info()"
   ]
  },
  {
   "cell_type": "code",
   "execution_count": 31,
   "id": "757417dd",
   "metadata": {},
   "outputs": [
    {
     "name": "stdout",
     "output_type": "stream",
     "text": [
      "Columna Provincia: 48 \n"
     ]
    }
   ],
   "source": [
    "col_categorias = tesis_df[['Provincia']]  \n",
    "             \n",
    "for col in col_categorias:\n",
    "    print(f'Columna {col}: {tesis_df[col].nunique()} ')"
   ]
  },
  {
   "cell_type": "code",
   "execution_count": 32,
   "id": "5edf9cc1",
   "metadata": {},
   "outputs": [],
   "source": [
    "# Unifircar los datos de la columna Provincia ya que se usara como categorias \n",
    "tesis_df['Provincia'] = tesis_df['Provincia'].replace(\n",
    "    {101:\"AZUAY\",\n",
    "    102:\"BOLÍVAR\",\n",
    "    103:\"CAÑAR\",\n",
    "    104:\"CARCHI\",\n",
    "    105:\"COTOPAXI\",\n",
    "    106:\"CHIMBORAZO\",\n",
    "    110:\"IMBABURA\",\n",
    "    111:\"LOJA\",\n",
    "    117:\"PICHINCHA\",\n",
    "    118:\"TUNGURAHUA\",\n",
    "    123:\"STO. DOMINGO DE LOS TSÁCHILAS\",\n",
    "    207:\"EL ORO\",\n",
    "    208:\"ESMERALDAS\",\n",
    "    209:\"GUAYAS\",\n",
    "    212:\"LOS RÍOS\",\n",
    "    213:\"MANABÍ\",\n",
    "    224:\"SANTA ELENA\",\n",
    "    314:\"MORONA SANTIAGO\",\n",
    "    315:\"NAPO\",\n",
    "    316:\"PASTAZA\",\n",
    "    319:\"ZAMORA CHINCHIPE\",\n",
    "    321:\"SUCUMBÍOS\",\n",
    "    322:\"ORELLANA\",\n",
    "    420:\"GALÁPAGOS\",\n",
    "    \"ZAMORACHINCHIPE\":\"ZAMORA CHINCHIPE\",\n",
    "    \"ELORO\":\"EL ORO\",\n",
    "    \"LOSRÍOS\":\"LOS RÍOS\",\n",
    "    \"SUCUMBIOS\":\"SUCUMBÍOS\",\n",
    "    \"MORONASANTIAGO\":\"MORONA SANTIAGO\",\n",
    "    \"SANTAELENA\":\"SANTA ELENA\",\n",
    "    \"STO.DOMINGODELOSTSÁCHILAS\":\"STO. DOMINGO DE LOS TSÁCHILAS\"})\n"
   ]
  },
  {
   "cell_type": "code",
   "execution_count": 33,
   "id": "2d45587c",
   "metadata": {},
   "outputs": [
    {
     "data": {
      "text/plain": [
       "<Axes: xlabel='Inversion_Tic', ylabel='count'>"
      ]
     },
     "execution_count": 33,
     "metadata": {},
     "output_type": "execute_result"
    },
    {
     "data": {
      "image/png": "[encoded data removed]",
      "text/plain": [
       "<Figure size 640x480 with 1 Axes>"
      ]
     },
     "metadata": {},
     "output_type": "display_data"
    }
   ],
   "source": [
    "sns.countplot(x=\"Inversion_Tic\", data=tesis_df, hue=\"Provincia\")"
   ]
  },
  {
   "cell_type": "code",
   "execution_count": 34,
   "id": "80f91c51",
   "metadata": {},
   "outputs": [],
   "source": [
    "tesis_df[['Personal_q_uso_Internet',\n",
    "          'Internet_ba_Fija',\n",
    "          'Internet_ba_Movil',\n",
    "          'Uso_Email',\n",
    "          'Uso_R_Sociales',\n",
    "          'Pag_Web']]=tesis_df[['Personal_q_uso_Internet',\n",
    "                                       'Internet_ba_Fija',\n",
    "                                       'Internet_ba_Movil',\n",
    "                                       'Uso_Email',\n",
    "                                       'Uso_R_Sociales',\n",
    "                                       'Pag_Web'\n",
    "                                      ]].astype('int64')"
   ]
  },
  {
   "cell_type": "code",
   "execution_count": 35,
   "id": "d1c0da4e",
   "metadata": {},
   "outputs": [
    {
     "name": "stdout",
     "output_type": "stream",
     "text": [
      "<class 'pandas.core.frame.DataFrame'>\n",
      "RangeIndex: 15071 entries, 0 to 15070\n",
      "Data columns (total 24 columns):\n",
      " #   Column                     Non-Null Count  Dtype  \n",
      "---  ------                     --------------  -----  \n",
      " 0   año                        15071 non-null  int64  \n",
      " 1   Sector_Económico           15071 non-null  object \n",
      " 2   Tamaño_Empresa             15071 non-null  object \n",
      " 3   Provincia                  15071 non-null  object \n",
      " 4   Inversion_Tic              15071 non-null  int64  \n",
      " 5   Valor_Inversion            15071 non-null  float64\n",
      " 6   Computador_cant            15071 non-null  int64  \n",
      " 7   Pda_cant                   15071 non-null  int64  \n",
      " 8   Celular_cant               15071 non-null  int64  \n",
      " 9   Notebooks_cant             15071 non-null  int64  \n",
      " 10  Tablet_cant                15071 non-null  int64  \n",
      " 11  Conexion_Internet          15071 non-null  int64  \n",
      " 12  Personal_q_uso_Internet    15071 non-null  int64  \n",
      " 13  Internet_ba_Fija           15071 non-null  int64  \n",
      " 14  Internet_ba_Movil          15071 non-null  int64  \n",
      " 15  Pag_Web                    15071 non-null  int64  \n",
      " 16  Uso_Celular                15071 non-null  int64  \n",
      " 17  Uso_Email                  15071 non-null  int64  \n",
      " 18  Uso_R_Sociales             15071 non-null  int64  \n",
      " 19  Especialistas_tic          15071 non-null  int64  \n",
      " 20  Personal_Conocimiento_tic  15071 non-null  int64  \n",
      " 21  Mujeres_Conocimiento_tic   15071 non-null  int64  \n",
      " 22  Hombres_Conocimiento_tic   15071 non-null  int64  \n",
      " 23  Intranet                   15071 non-null  int64  \n",
      "dtypes: float64(1), int64(20), object(3)\n",
      "memory usage: 2.8+ MB\n"
     ]
    }
   ],
   "source": [
    "tesis_df.info()"
   ]
  },
  {
   "cell_type": "code",
   "execution_count": 36,
   "id": "18aee9eb",
   "metadata": {},
   "outputs": [
    {
     "data": {
      "text/plain": [
       "<Axes: xlabel='Inversion_Tic', ylabel='count'>"
      ]
     },
     "execution_count": 36,
     "metadata": {},
     "output_type": "execute_result"
    },
    {
     "data": {
      "image/png": "[encoded data removed]",
      "text/plain": [
       "<Figure size 640x480 with 1 Axes>"
      ]
     },
     "metadata": {},
     "output_type": "display_data"
    }
   ],
   "source": [
    "sns.countplot(x=\"Inversion_Tic\", data=tesis_df)"
   ]
  },
  {
   "cell_type": "code",
   "execution_count": 37,
   "id": "f98be20e",
   "metadata": {},
   "outputs": [
    {
     "data": {
      "text/plain": [
       "<Axes: xlabel='Sector_Económico', ylabel='count'>"
      ]
     },
     "execution_count": 37,
     "metadata": {},
     "output_type": "execute_result"
    },
    {
     "data": {
      "image/png": "[encoded data removed]",
      "text/plain": [
       "<Figure size 640x480 with 1 Axes>"
      ]
     },
     "metadata": {},
     "output_type": "display_data"
    }
   ],
   "source": [
    "sns.set(font_scale=0.8)\n",
    "sns.countplot(x=\"Sector_Económico\", data=tesis_df)"
   ]
  },
  {
   "cell_type": "code",
   "execution_count": 38,
   "id": "e5712c0e",
   "metadata": {},
   "outputs": [
    {
     "data": {
      "text/plain": [
       "<Axes: xlabel='Tamaño_Empresa', ylabel='count'>"
      ]
     },
     "execution_count": 38,
     "metadata": {},
     "output_type": "execute_result"
    },
    {
     "data": {
      "image/png": "[encoded data removed]",
      "text/plain": [
       "<Figure size 640x480 with 1 Axes>"
      ]
     },
     "metadata": {},
     "output_type": "display_data"
    }
   ],
   "source": [
    "sns.set(font_scale=0.6)\n",
    "sns.countplot(x=\"Tamaño_Empresa\", data=tesis_df)"
   ]
  },
  {
   "cell_type": "code",
   "execution_count": 39,
   "id": "d673f560",
   "metadata": {},
   "outputs": [
    {
     "data": {
      "image/png": "[encoded data removed]",
      "text/plain": [
       "<Figure size 640x480 with 1 Axes>"
      ]
     },
     "metadata": {},
     "output_type": "display_data"
    }
   ],
   "source": [
    "sns.countplot(x=\"Provincia\", data=tesis_df)\n",
    "plt.xticks(rotation=90) \n",
    "plt.show()"
   ]
  },
  {
   "cell_type": "code",
   "execution_count": 40,
   "id": "24d81ac5",
   "metadata": {},
   "outputs": [
    {
     "data": {
      "text/plain": [
       "<Axes: >"
      ]
     },
     "execution_count": 40,
     "metadata": {},
     "output_type": "execute_result"
    },
    {
     "data": {
      "image/png": "[encoded data removed]",
      "text/plain": [
       "<Figure size 640x480 with 2 Axes>"
      ]
     },
     "metadata": {},
     "output_type": "display_data"
    }
   ],
   "source": [
    "# Grafico para verificacion de datos nulos \n",
    "sns.heatmap(tesis_df.isna())"
   ]
  },
  {
   "cell_type": "code",
   "execution_count": 41,
   "id": "100b5680",
   "metadata": {},
   "outputs": [],
   "source": [
    "# Guardar la data limpia para poder hacer los analisis de la data (reportes en powerBI)\n",
    "tesis_df.to_excel('data_BI.xlsx', index=False)"
   ]
  },
  {
   "cell_type": "markdown",
   "id": "ff2d4ea4",
   "metadata": {},
   "source": [
    "## 3. Dividir la data en train y test"
   ]
  },
  {
   "cell_type": "code",
   "execution_count": 42,
   "id": "9c638273",
   "metadata": {
    "scrolled": true
   },
   "outputs": [
    {
     "data": {
      "text/html": [
       "<div>\n",
       "<style scoped>\n",
       "    .dataframe tbody tr th:only-of-type {\n",
       "        vertical-align: middle;\n",
       "    }\n",
       "\n",
       "    .dataframe tbody tr th {\n",
       "        vertical-align: top;\n",
       "    }\n",
       "\n",
       "    .dataframe thead th {\n",
       "        text-align: right;\n",
       "    }\n",
       "</style>\n",
       "<table border=\"1\" class=\"dataframe\">\n",
       "  <thead>\n",
       "    <tr style=\"text-align: right;\">\n",
       "      <th></th>\n",
       "      <th>año</th>\n",
       "      <th>Sector_Económico</th>\n",
       "      <th>Tamaño_Empresa</th>\n",
       "      <th>Provincia</th>\n",
       "      <th>Inversion_Tic</th>\n",
       "      <th>Valor_Inversion</th>\n",
       "      <th>Computador_cant</th>\n",
       "      <th>Pda_cant</th>\n",
       "      <th>Celular_cant</th>\n",
       "      <th>Notebooks_cant</th>\n",
       "      <th>...</th>\n",
       "      <th>Internet_ba_Movil</th>\n",
       "      <th>Pag_Web</th>\n",
       "      <th>Uso_Celular</th>\n",
       "      <th>Uso_Email</th>\n",
       "      <th>Uso_R_Sociales</th>\n",
       "      <th>Especialistas_tic</th>\n",
       "      <th>Personal_Conocimiento_tic</th>\n",
       "      <th>Mujeres_Conocimiento_tic</th>\n",
       "      <th>Hombres_Conocimiento_tic</th>\n",
       "      <th>Intranet</th>\n",
       "    </tr>\n",
       "  </thead>\n",
       "  <tbody>\n",
       "    <tr>\n",
       "      <th>0</th>\n",
       "      <td>2012</td>\n",
       "      <td>SERVICIOS</td>\n",
       "      <td>PEQUEÑA EMPRESA</td>\n",
       "      <td>AZUAY</td>\n",
       "      <td>0</td>\n",
       "      <td>0.0</td>\n",
       "      <td>5</td>\n",
       "      <td>0</td>\n",
       "      <td>0</td>\n",
       "      <td>0</td>\n",
       "      <td>...</td>\n",
       "      <td>0</td>\n",
       "      <td>1</td>\n",
       "      <td>1</td>\n",
       "      <td>1</td>\n",
       "      <td>0</td>\n",
       "      <td>0</td>\n",
       "      <td>8</td>\n",
       "      <td>3</td>\n",
       "      <td>5</td>\n",
       "      <td>0</td>\n",
       "    </tr>\n",
       "    <tr>\n",
       "      <th>1</th>\n",
       "      <td>2013</td>\n",
       "      <td>SERVICIOS</td>\n",
       "      <td>PEQUEÑA EMPRESA</td>\n",
       "      <td>AZUAY</td>\n",
       "      <td>1</td>\n",
       "      <td>3634.0</td>\n",
       "      <td>4</td>\n",
       "      <td>0</td>\n",
       "      <td>0</td>\n",
       "      <td>0</td>\n",
       "      <td>...</td>\n",
       "      <td>0</td>\n",
       "      <td>1</td>\n",
       "      <td>1</td>\n",
       "      <td>1</td>\n",
       "      <td>0</td>\n",
       "      <td>0</td>\n",
       "      <td>0</td>\n",
       "      <td>0</td>\n",
       "      <td>0</td>\n",
       "      <td>0</td>\n",
       "    </tr>\n",
       "    <tr>\n",
       "      <th>2</th>\n",
       "      <td>2014</td>\n",
       "      <td>SERVICIOS</td>\n",
       "      <td>PEQUEÑA EMPRESA</td>\n",
       "      <td>AZUAY</td>\n",
       "      <td>0</td>\n",
       "      <td>0.0</td>\n",
       "      <td>3</td>\n",
       "      <td>0</td>\n",
       "      <td>0</td>\n",
       "      <td>0</td>\n",
       "      <td>...</td>\n",
       "      <td>0</td>\n",
       "      <td>1</td>\n",
       "      <td>0</td>\n",
       "      <td>1</td>\n",
       "      <td>0</td>\n",
       "      <td>0</td>\n",
       "      <td>2</td>\n",
       "      <td>2</td>\n",
       "      <td>0</td>\n",
       "      <td>0</td>\n",
       "    </tr>\n",
       "    <tr>\n",
       "      <th>3</th>\n",
       "      <td>2015</td>\n",
       "      <td>SERVICIOS</td>\n",
       "      <td>PEQUEÑA EMPRESA</td>\n",
       "      <td>AZUAY</td>\n",
       "      <td>1</td>\n",
       "      <td>3064.0</td>\n",
       "      <td>3</td>\n",
       "      <td>0</td>\n",
       "      <td>0</td>\n",
       "      <td>0</td>\n",
       "      <td>...</td>\n",
       "      <td>0</td>\n",
       "      <td>1</td>\n",
       "      <td>1</td>\n",
       "      <td>1</td>\n",
       "      <td>0</td>\n",
       "      <td>0</td>\n",
       "      <td>0</td>\n",
       "      <td>0</td>\n",
       "      <td>0</td>\n",
       "      <td>0</td>\n",
       "    </tr>\n",
       "    <tr>\n",
       "      <th>4</th>\n",
       "      <td>2013</td>\n",
       "      <td>MANUFACTURA</td>\n",
       "      <td>PEQUEÑA EMPRESA</td>\n",
       "      <td>AZUAY</td>\n",
       "      <td>0</td>\n",
       "      <td>0.0</td>\n",
       "      <td>7</td>\n",
       "      <td>0</td>\n",
       "      <td>0</td>\n",
       "      <td>0</td>\n",
       "      <td>...</td>\n",
       "      <td>0</td>\n",
       "      <td>0</td>\n",
       "      <td>1</td>\n",
       "      <td>1</td>\n",
       "      <td>0</td>\n",
       "      <td>0</td>\n",
       "      <td>0</td>\n",
       "      <td>0</td>\n",
       "      <td>0</td>\n",
       "      <td>0</td>\n",
       "    </tr>\n",
       "    <tr>\n",
       "      <th>...</th>\n",
       "      <td>...</td>\n",
       "      <td>...</td>\n",
       "      <td>...</td>\n",
       "      <td>...</td>\n",
       "      <td>...</td>\n",
       "      <td>...</td>\n",
       "      <td>...</td>\n",
       "      <td>...</td>\n",
       "      <td>...</td>\n",
       "      <td>...</td>\n",
       "      <td>...</td>\n",
       "      <td>...</td>\n",
       "      <td>...</td>\n",
       "      <td>...</td>\n",
       "      <td>...</td>\n",
       "      <td>...</td>\n",
       "      <td>...</td>\n",
       "      <td>...</td>\n",
       "      <td>...</td>\n",
       "      <td>...</td>\n",
       "      <td>...</td>\n",
       "    </tr>\n",
       "    <tr>\n",
       "      <th>15066</th>\n",
       "      <td>2015</td>\n",
       "      <td>COMERCIO</td>\n",
       "      <td>MEDIANA EMPRESA A</td>\n",
       "      <td>ORELLANA</td>\n",
       "      <td>0</td>\n",
       "      <td>0.0</td>\n",
       "      <td>15</td>\n",
       "      <td>0</td>\n",
       "      <td>0</td>\n",
       "      <td>0</td>\n",
       "      <td>...</td>\n",
       "      <td>0</td>\n",
       "      <td>1</td>\n",
       "      <td>1</td>\n",
       "      <td>1</td>\n",
       "      <td>1</td>\n",
       "      <td>1</td>\n",
       "      <td>20</td>\n",
       "      <td>8</td>\n",
       "      <td>12</td>\n",
       "      <td>0</td>\n",
       "    </tr>\n",
       "    <tr>\n",
       "      <th>15067</th>\n",
       "      <td>2015</td>\n",
       "      <td>MANUFACTURA</td>\n",
       "      <td>MEDIANA EMPRESA A</td>\n",
       "      <td>COTOPAXI</td>\n",
       "      <td>0</td>\n",
       "      <td>0.0</td>\n",
       "      <td>10</td>\n",
       "      <td>0</td>\n",
       "      <td>0</td>\n",
       "      <td>0</td>\n",
       "      <td>...</td>\n",
       "      <td>0</td>\n",
       "      <td>1</td>\n",
       "      <td>1</td>\n",
       "      <td>1</td>\n",
       "      <td>0</td>\n",
       "      <td>0</td>\n",
       "      <td>9</td>\n",
       "      <td>4</td>\n",
       "      <td>5</td>\n",
       "      <td>0</td>\n",
       "    </tr>\n",
       "    <tr>\n",
       "      <th>15068</th>\n",
       "      <td>2015</td>\n",
       "      <td>SERVICIOS</td>\n",
       "      <td>PEQUEÑA EMPRESA</td>\n",
       "      <td>TUNGURAHUA</td>\n",
       "      <td>1</td>\n",
       "      <td>746.0</td>\n",
       "      <td>4</td>\n",
       "      <td>0</td>\n",
       "      <td>0</td>\n",
       "      <td>0</td>\n",
       "      <td>...</td>\n",
       "      <td>0</td>\n",
       "      <td>0</td>\n",
       "      <td>1</td>\n",
       "      <td>1</td>\n",
       "      <td>1</td>\n",
       "      <td>0</td>\n",
       "      <td>4</td>\n",
       "      <td>3</td>\n",
       "      <td>1</td>\n",
       "      <td>0</td>\n",
       "    </tr>\n",
       "    <tr>\n",
       "      <th>15069</th>\n",
       "      <td>2015</td>\n",
       "      <td>MANUFACTURA</td>\n",
       "      <td>MEDIANA EMPRESA B</td>\n",
       "      <td>TUNGURAHUA</td>\n",
       "      <td>1</td>\n",
       "      <td>29000.0</td>\n",
       "      <td>29</td>\n",
       "      <td>0</td>\n",
       "      <td>0</td>\n",
       "      <td>0</td>\n",
       "      <td>...</td>\n",
       "      <td>0</td>\n",
       "      <td>1</td>\n",
       "      <td>1</td>\n",
       "      <td>1</td>\n",
       "      <td>1</td>\n",
       "      <td>1</td>\n",
       "      <td>33</td>\n",
       "      <td>15</td>\n",
       "      <td>18</td>\n",
       "      <td>1</td>\n",
       "    </tr>\n",
       "    <tr>\n",
       "      <th>15070</th>\n",
       "      <td>2015</td>\n",
       "      <td>MANUFACTURA</td>\n",
       "      <td>GRANDE EMPRESA</td>\n",
       "      <td>GUAYAS</td>\n",
       "      <td>1</td>\n",
       "      <td>94365.0</td>\n",
       "      <td>252</td>\n",
       "      <td>0</td>\n",
       "      <td>0</td>\n",
       "      <td>45</td>\n",
       "      <td>...</td>\n",
       "      <td>1</td>\n",
       "      <td>1</td>\n",
       "      <td>1</td>\n",
       "      <td>1</td>\n",
       "      <td>1</td>\n",
       "      <td>1</td>\n",
       "      <td>1</td>\n",
       "      <td>0</td>\n",
       "      <td>1</td>\n",
       "      <td>0</td>\n",
       "    </tr>\n",
       "  </tbody>\n",
       "</table>\n",
       "<p>15071 rows × 24 columns</p>\n",
       "</div>"
      ],
      "text/plain": [
       "        año Sector_Económico     Tamaño_Empresa   Provincia  Inversion_Tic  \\\n",
       "0      2012        SERVICIOS    PEQUEÑA EMPRESA       AZUAY              0   \n",
       "1      2013        SERVICIOS    PEQUEÑA EMPRESA       AZUAY              1   \n",
       "2      2014        SERVICIOS    PEQUEÑA EMPRESA       AZUAY              0   \n",
       "3      2015        SERVICIOS    PEQUEÑA EMPRESA       AZUAY              1   \n",
       "4      2013      MANUFACTURA    PEQUEÑA EMPRESA       AZUAY              0   \n",
       "...     ...              ...                ...         ...            ...   \n",
       "15066  2015         COMERCIO  MEDIANA EMPRESA A    ORELLANA              0   \n",
       "15067  2015      MANUFACTURA  MEDIANA EMPRESA A    COTOPAXI              0   \n",
       "15068  2015        SERVICIOS    PEQUEÑA EMPRESA  TUNGURAHUA              1   \n",
       "15069  2015      MANUFACTURA  MEDIANA EMPRESA B  TUNGURAHUA              1   \n",
       "15070  2015      MANUFACTURA     GRANDE EMPRESA      GUAYAS              1   \n",
       "\n",
       "       Valor_Inversion  Computador_cant  Pda_cant  Celular_cant  \\\n",
       "0                  0.0                5         0             0   \n",
       "1               3634.0                4         0             0   \n",
       "2                  0.0                3         0             0   \n",
       "3               3064.0                3         0             0   \n",
       "4                  0.0                7         0             0   \n",
       "...                ...              ...       ...           ...   \n",
       "15066              0.0               15         0             0   \n",
       "15067              0.0               10         0             0   \n",
       "15068            746.0                4         0             0   \n",
       "15069          29000.0               29         0             0   \n",
       "15070          94365.0              252         0             0   \n",
       "\n",
       "       Notebooks_cant  ...  Internet_ba_Movil  Pag_Web  Uso_Celular  \\\n",
       "0                   0  ...                  0        1            1   \n",
       "1                   0  ...                  0        1            1   \n",
       "2                   0  ...                  0        1            0   \n",
       "3                   0  ...                  0        1            1   \n",
       "4                   0  ...                  0        0            1   \n",
       "...               ...  ...                ...      ...          ...   \n",
       "15066               0  ...                  0        1            1   \n",
       "15067               0  ...                  0        1            1   \n",
       "15068               0  ...                  0        0            1   \n",
       "15069               0  ...                  0        1            1   \n",
       "15070              45  ...                  1        1            1   \n",
       "\n",
       "       Uso_Email  Uso_R_Sociales  Especialistas_tic  \\\n",
       "0              1               0                  0   \n",
       "1              1               0                  0   \n",
       "2              1               0                  0   \n",
       "3              1               0                  0   \n",
       "4              1               0                  0   \n",
       "...          ...             ...                ...   \n",
       "15066          1               1                  1   \n",
       "15067          1               0                  0   \n",
       "15068          1               1                  0   \n",
       "15069          1               1                  1   \n",
       "15070          1               1                  1   \n",
       "\n",
       "       Personal_Conocimiento_tic  Mujeres_Conocimiento_tic  \\\n",
       "0                              8                         3   \n",
       "1                              0                         0   \n",
       "2                              2                         2   \n",
       "3                              0                         0   \n",
       "4                              0                         0   \n",
       "...                          ...                       ...   \n",
       "15066                         20                         8   \n",
       "15067                          9                         4   \n",
       "15068                          4                         3   \n",
       "15069                         33                        15   \n",
       "15070                          1                         0   \n",
       "\n",
       "       Hombres_Conocimiento_tic  Intranet  \n",
       "0                             5         0  \n",
       "1                             0         0  \n",
       "2                             0         0  \n",
       "3                             0         0  \n",
       "4                             0         0  \n",
       "...                         ...       ...  \n",
       "15066                        12         0  \n",
       "15067                         5         0  \n",
       "15068                         1         0  \n",
       "15069                        18         1  \n",
       "15070                         1         0  \n",
       "\n",
       "[15071 rows x 24 columns]"
      ]
     },
     "execution_count": 42,
     "metadata": {},
     "output_type": "execute_result"
    }
   ],
   "source": [
    "tesis_df"
   ]
  },
  {
   "cell_type": "code",
   "execution_count": 58,
   "id": "f5c28769",
   "metadata": {
    "scrolled": true
   },
   "outputs": [
    {
     "data": {
      "text/html": [
       "<div>\n",
       "<style scoped>\n",
       "    .dataframe tbody tr th:only-of-type {\n",
       "        vertical-align: middle;\n",
       "    }\n",
       "\n",
       "    .dataframe tbody tr th {\n",
       "        vertical-align: top;\n",
       "    }\n",
       "\n",
       "    .dataframe thead th {\n",
       "        text-align: right;\n",
       "    }\n",
       "</style>\n",
       "<table border=\"1\" class=\"dataframe\">\n",
       "  <thead>\n",
       "    <tr style=\"text-align: right;\">\n",
       "      <th></th>\n",
       "      <th>año</th>\n",
       "      <th>Inversion_Tic</th>\n",
       "      <th>Valor_Inversion</th>\n",
       "      <th>Computador_cant</th>\n",
       "      <th>Pda_cant</th>\n",
       "      <th>Celular_cant</th>\n",
       "      <th>Notebooks_cant</th>\n",
       "      <th>Tablet_cant</th>\n",
       "      <th>Conexion_Internet</th>\n",
       "      <th>Personal_q_uso_Internet</th>\n",
       "      <th>...</th>\n",
       "      <th>Internet_ba_Movil</th>\n",
       "      <th>Pag_Web</th>\n",
       "      <th>Uso_Celular</th>\n",
       "      <th>Uso_Email</th>\n",
       "      <th>Uso_R_Sociales</th>\n",
       "      <th>Especialistas_tic</th>\n",
       "      <th>Personal_Conocimiento_tic</th>\n",
       "      <th>Mujeres_Conocimiento_tic</th>\n",
       "      <th>Hombres_Conocimiento_tic</th>\n",
       "      <th>Intranet</th>\n",
       "    </tr>\n",
       "  </thead>\n",
       "  <tbody>\n",
       "    <tr>\n",
       "      <th>count</th>\n",
       "      <td>15071.000000</td>\n",
       "      <td>15071.000000</td>\n",
       "      <td>1.507100e+04</td>\n",
       "      <td>15071.000000</td>\n",
       "      <td>15071.000000</td>\n",
       "      <td>15071.000000</td>\n",
       "      <td>15071.000000</td>\n",
       "      <td>15071.000000</td>\n",
       "      <td>15071.000000</td>\n",
       "      <td>15071.000000</td>\n",
       "      <td>...</td>\n",
       "      <td>15071.000000</td>\n",
       "      <td>15071.000000</td>\n",
       "      <td>15071.000000</td>\n",
       "      <td>15071.00000</td>\n",
       "      <td>15071.000000</td>\n",
       "      <td>15071.000000</td>\n",
       "      <td>15071.000000</td>\n",
       "      <td>15071.000000</td>\n",
       "      <td>15071.000000</td>\n",
       "      <td>15071.000000</td>\n",
       "    </tr>\n",
       "    <tr>\n",
       "      <th>mean</th>\n",
       "      <td>2013.407339</td>\n",
       "      <td>0.467189</td>\n",
       "      <td>5.095299e+04</td>\n",
       "      <td>48.223476</td>\n",
       "      <td>1.671356</td>\n",
       "      <td>5.515095</td>\n",
       "      <td>7.176100</td>\n",
       "      <td>1.760799</td>\n",
       "      <td>0.958729</td>\n",
       "      <td>44.053414</td>\n",
       "      <td>...</td>\n",
       "      <td>0.154734</td>\n",
       "      <td>0.503019</td>\n",
       "      <td>0.966426</td>\n",
       "      <td>0.92469</td>\n",
       "      <td>0.506403</td>\n",
       "      <td>0.319554</td>\n",
       "      <td>9.286311</td>\n",
       "      <td>3.757349</td>\n",
       "      <td>5.528830</td>\n",
       "      <td>0.449738</td>\n",
       "    </tr>\n",
       "    <tr>\n",
       "      <th>std</th>\n",
       "      <td>1.104505</td>\n",
       "      <td>0.498939</td>\n",
       "      <td>7.557917e+05</td>\n",
       "      <td>244.412819</td>\n",
       "      <td>24.939544</td>\n",
       "      <td>44.431839</td>\n",
       "      <td>63.929901</td>\n",
       "      <td>16.307189</td>\n",
       "      <td>0.198924</td>\n",
       "      <td>185.809765</td>\n",
       "      <td>...</td>\n",
       "      <td>0.361663</td>\n",
       "      <td>0.500007</td>\n",
       "      <td>0.180137</td>\n",
       "      <td>0.26390</td>\n",
       "      <td>0.499976</td>\n",
       "      <td>0.466319</td>\n",
       "      <td>72.258969</td>\n",
       "      <td>30.576725</td>\n",
       "      <td>43.143868</td>\n",
       "      <td>0.497484</td>\n",
       "    </tr>\n",
       "    <tr>\n",
       "      <th>min</th>\n",
       "      <td>2012.000000</td>\n",
       "      <td>0.000000</td>\n",
       "      <td>0.000000e+00</td>\n",
       "      <td>0.000000</td>\n",
       "      <td>0.000000</td>\n",
       "      <td>0.000000</td>\n",
       "      <td>0.000000</td>\n",
       "      <td>0.000000</td>\n",
       "      <td>0.000000</td>\n",
       "      <td>0.000000</td>\n",
       "      <td>...</td>\n",
       "      <td>0.000000</td>\n",
       "      <td>0.000000</td>\n",
       "      <td>0.000000</td>\n",
       "      <td>0.00000</td>\n",
       "      <td>0.000000</td>\n",
       "      <td>0.000000</td>\n",
       "      <td>0.000000</td>\n",
       "      <td>0.000000</td>\n",
       "      <td>0.000000</td>\n",
       "      <td>0.000000</td>\n",
       "    </tr>\n",
       "    <tr>\n",
       "      <th>25%</th>\n",
       "      <td>2012.000000</td>\n",
       "      <td>0.000000</td>\n",
       "      <td>0.000000e+00</td>\n",
       "      <td>5.000000</td>\n",
       "      <td>0.000000</td>\n",
       "      <td>0.000000</td>\n",
       "      <td>0.000000</td>\n",
       "      <td>0.000000</td>\n",
       "      <td>1.000000</td>\n",
       "      <td>5.000000</td>\n",
       "      <td>...</td>\n",
       "      <td>0.000000</td>\n",
       "      <td>0.000000</td>\n",
       "      <td>1.000000</td>\n",
       "      <td>1.00000</td>\n",
       "      <td>0.000000</td>\n",
       "      <td>0.000000</td>\n",
       "      <td>0.000000</td>\n",
       "      <td>0.000000</td>\n",
       "      <td>0.000000</td>\n",
       "      <td>0.000000</td>\n",
       "    </tr>\n",
       "    <tr>\n",
       "      <th>50%</th>\n",
       "      <td>2013.000000</td>\n",
       "      <td>0.000000</td>\n",
       "      <td>0.000000e+00</td>\n",
       "      <td>12.000000</td>\n",
       "      <td>0.000000</td>\n",
       "      <td>0.000000</td>\n",
       "      <td>0.000000</td>\n",
       "      <td>0.000000</td>\n",
       "      <td>1.000000</td>\n",
       "      <td>12.000000</td>\n",
       "      <td>...</td>\n",
       "      <td>0.000000</td>\n",
       "      <td>1.000000</td>\n",
       "      <td>1.000000</td>\n",
       "      <td>1.00000</td>\n",
       "      <td>1.000000</td>\n",
       "      <td>0.000000</td>\n",
       "      <td>1.000000</td>\n",
       "      <td>0.000000</td>\n",
       "      <td>1.000000</td>\n",
       "      <td>0.000000</td>\n",
       "    </tr>\n",
       "    <tr>\n",
       "      <th>75%</th>\n",
       "      <td>2014.000000</td>\n",
       "      <td>1.000000</td>\n",
       "      <td>6.570500e+03</td>\n",
       "      <td>30.000000</td>\n",
       "      <td>0.000000</td>\n",
       "      <td>0.000000</td>\n",
       "      <td>1.000000</td>\n",
       "      <td>0.000000</td>\n",
       "      <td>1.000000</td>\n",
       "      <td>32.000000</td>\n",
       "      <td>...</td>\n",
       "      <td>0.000000</td>\n",
       "      <td>1.000000</td>\n",
       "      <td>1.000000</td>\n",
       "      <td>1.00000</td>\n",
       "      <td>1.000000</td>\n",
       "      <td>1.000000</td>\n",
       "      <td>4.000000</td>\n",
       "      <td>2.000000</td>\n",
       "      <td>2.000000</td>\n",
       "      <td>1.000000</td>\n",
       "    </tr>\n",
       "    <tr>\n",
       "      <th>max</th>\n",
       "      <td>2015.000000</td>\n",
       "      <td>1.000000</td>\n",
       "      <td>5.400916e+07</td>\n",
       "      <td>8500.000000</td>\n",
       "      <td>1403.000000</td>\n",
       "      <td>2520.000000</td>\n",
       "      <td>3953.000000</td>\n",
       "      <td>1000.000000</td>\n",
       "      <td>1.000000</td>\n",
       "      <td>8673.000000</td>\n",
       "      <td>...</td>\n",
       "      <td>1.000000</td>\n",
       "      <td>1.000000</td>\n",
       "      <td>1.000000</td>\n",
       "      <td>1.00000</td>\n",
       "      <td>1.000000</td>\n",
       "      <td>1.000000</td>\n",
       "      <td>6451.000000</td>\n",
       "      <td>2838.000000</td>\n",
       "      <td>3613.000000</td>\n",
       "      <td>1.000000</td>\n",
       "    </tr>\n",
       "  </tbody>\n",
       "</table>\n",
       "<p>8 rows × 21 columns</p>\n",
       "</div>"
      ],
      "text/plain": [
       "                año  Inversion_Tic  Valor_Inversion  Computador_cant  \\\n",
       "count  15071.000000   15071.000000     1.507100e+04     15071.000000   \n",
       "mean    2013.407339       0.467189     5.095299e+04        48.223476   \n",
       "std        1.104505       0.498939     7.557917e+05       244.412819   \n",
       "min     2012.000000       0.000000     0.000000e+00         0.000000   \n",
       "25%     2012.000000       0.000000     0.000000e+00         5.000000   \n",
       "50%     2013.000000       0.000000     0.000000e+00        12.000000   \n",
       "75%     2014.000000       1.000000     6.570500e+03        30.000000   \n",
       "max     2015.000000       1.000000     5.400916e+07      8500.000000   \n",
       "\n",
       "           Pda_cant  Celular_cant  Notebooks_cant   Tablet_cant  \\\n",
       "count  15071.000000  15071.000000    15071.000000  15071.000000   \n",
       "mean       1.671356      5.515095        7.176100      1.760799   \n",
       "std       24.939544     44.431839       63.929901     16.307189   \n",
       "min        0.000000      0.000000        0.000000      0.000000   \n",
       "25%        0.000000      0.000000        0.000000      0.000000   \n",
       "50%        0.000000      0.000000        0.000000      0.000000   \n",
       "75%        0.000000      0.000000        1.000000      0.000000   \n",
       "max     1403.000000   2520.000000     3953.000000   1000.000000   \n",
       "\n",
       "       Conexion_Internet  Personal_q_uso_Internet  ...  Internet_ba_Movil  \\\n",
       "count       15071.000000             15071.000000  ...       15071.000000   \n",
       "mean            0.958729                44.053414  ...           0.154734   \n",
       "std             0.198924               185.809765  ...           0.361663   \n",
       "min             0.000000                 0.000000  ...           0.000000   \n",
       "25%             1.000000                 5.000000  ...           0.000000   \n",
       "50%             1.000000                12.000000  ...           0.000000   \n",
       "75%             1.000000                32.000000  ...           0.000000   \n",
       "max             1.000000              8673.000000  ...           1.000000   \n",
       "\n",
       "            Pag_Web   Uso_Celular    Uso_Email  Uso_R_Sociales  \\\n",
       "count  15071.000000  15071.000000  15071.00000    15071.000000   \n",
       "mean       0.503019      0.966426      0.92469        0.506403   \n",
       "std        0.500007      0.180137      0.26390        0.499976   \n",
       "min        0.000000      0.000000      0.00000        0.000000   \n",
       "25%        0.000000      1.000000      1.00000        0.000000   \n",
       "50%        1.000000      1.000000      1.00000        1.000000   \n",
       "75%        1.000000      1.000000      1.00000        1.000000   \n",
       "max        1.000000      1.000000      1.00000        1.000000   \n",
       "\n",
       "       Especialistas_tic  Personal_Conocimiento_tic  Mujeres_Conocimiento_tic  \\\n",
       "count       15071.000000               15071.000000              15071.000000   \n",
       "mean            0.319554                   9.286311                  3.757349   \n",
       "std             0.466319                  72.258969                 30.576725   \n",
       "min             0.000000                   0.000000                  0.000000   \n",
       "25%             0.000000                   0.000000                  0.000000   \n",
       "50%             0.000000                   1.000000                  0.000000   \n",
       "75%             1.000000                   4.000000                  2.000000   \n",
       "max             1.000000                6451.000000               2838.000000   \n",
       "\n",
       "       Hombres_Conocimiento_tic      Intranet  \n",
       "count              15071.000000  15071.000000  \n",
       "mean                   5.528830      0.449738  \n",
       "std                   43.143868      0.497484  \n",
       "min                    0.000000      0.000000  \n",
       "25%                    0.000000      0.000000  \n",
       "50%                    1.000000      0.000000  \n",
       "75%                    2.000000      1.000000  \n",
       "max                 3613.000000      1.000000  \n",
       "\n",
       "[8 rows x 21 columns]"
      ]
     },
     "execution_count": 58,
     "metadata": {},
     "output_type": "execute_result"
    }
   ],
   "source": [
    "tesis_df.describe()"
   ]
  },
  {
   "cell_type": "code",
   "execution_count": 43,
   "id": "b9795d8c",
   "metadata": {
    "scrolled": true
   },
   "outputs": [],
   "source": [
    "# me quedo solo con las caracteristicas de valores numericos\n",
    "# cols = [col for col in casas if col != casas.columns[-4]] + [casas.columns[-4]]\n",
    "# casas = casas[cols]\n",
    "# casas"
   ]
  },
  {
   "cell_type": "code",
   "execution_count": 44,
   "id": "7e005ca7",
   "metadata": {},
   "outputs": [
    {
     "data": {
      "text/plain": [
       "Index(['año', 'Sector_Económico', 'Tamaño_Empresa', 'Provincia',\n",
       "       'Inversion_Tic', 'Valor_Inversion', 'Computador_cant', 'Pda_cant',\n",
       "       'Celular_cant', 'Notebooks_cant', 'Tablet_cant', 'Conexion_Internet',\n",
       "       'Personal_q_uso_Internet', 'Internet_ba_Fija', 'Internet_ba_Movil',\n",
       "       'Pag_Web', 'Uso_Celular', 'Uso_Email', 'Uso_R_Sociales',\n",
       "       'Especialistas_tic', 'Personal_Conocimiento_tic',\n",
       "       'Mujeres_Conocimiento_tic', 'Hombres_Conocimiento_tic', 'Intranet'],\n",
       "      dtype='object')"
      ]
     },
     "execution_count": 44,
     "metadata": {},
     "output_type": "execute_result"
    }
   ],
   "source": [
    "tesis_df.columns  "
   ]
  },
  {
   "cell_type": "code",
   "execution_count": 45,
   "id": "04fd84e9",
   "metadata": {},
   "outputs": [],
   "source": [
    "# datos dependientes NO toman en cuenta al dato independiente \"Y - Valor_Inversion\"\n",
    "X = tesis_df[['Computador_cant', 'Pda_cant',\n",
    "       'Celular_cant', 'Notebooks_cant', 'Tablet_cant', \n",
    "       'Personal_q_uso_Internet', 'Internet_ba_Fija', 'Internet_ba_Movil',\n",
    "       'Pag_Web', 'Uso_Celular', 'Uso_Email', 'Uso_R_Sociales',\n",
    "       'Intranet']].values # DATOS DEPENDIENTES AQUI SON TODAS LAS CARACTERISTICAS\n",
    "y = tesis_df[['Valor_Inversion']].values # ETIQUETA O DATOS (VARIABLE) INDEPENDIENTES \n",
    "\n",
    "\n",
    "# dividir los datos 70 y 30\n",
    "X_train, X_test, y_train, y_test = train_test_split(X, y, test_size=0.3, random_state = 42) "
   ]
  },
  {
   "cell_type": "markdown",
   "id": "6125f754",
   "metadata": {},
   "source": [
    "## 4. Entrenar el modelo "
   ]
  },
  {
   "cell_type": "code",
   "execution_count": 46,
   "id": "d1ed0565",
   "metadata": {},
   "outputs": [
    {
     "data": {
      "text/html": [
       "<style>#sk-container-id-1 {color: black;background-color: white;}#sk-container-id-1 pre{padding: 0;}#sk-container-id-1 div.sk-toggleable {background-color: white;}#sk-container-id-1 label.sk-toggleable__label {cursor: pointer;display: block;width: 100%;margin-bottom: 0;padding: 0.3em;box-sizing: border-box;text-align: center;}#sk-container-id-1 label.sk-toggleable__label-arrow:before {content: \"▸\";float: left;margin-right: 0.25em;color: #696969;}#sk-container-id-1 label.sk-toggleable__label-arrow:hover:before {color: black;}#sk-container-id-1 div.sk-estimator:hover label.sk-toggleable__label-arrow:before {color: black;}#sk-container-id-1 div.sk-toggleable__content {max-height: 0;max-width: 0;overflow: hidden;text-align: left;background-color: #f0f8ff;}#sk-container-id-1 div.sk-toggleable__content pre {margin: 0.2em;color: black;border-radius: 0.25em;background-color: #f0f8ff;}#sk-container-id-1 input.sk-toggleable__control:checked~div.sk-toggleable__content {max-height: 200px;max-width: 100%;overflow: auto;}#sk-container-id-1 input.sk-toggleable__control:checked~label.sk-toggleable__label-arrow:before {content: \"▾\";}#sk-container-id-1 div.sk-estimator input.sk-toggleable__control:checked~label.sk-toggleable__label {background-color: #d4ebff;}#sk-container-id-1 div.sk-label input.sk-toggleable__control:checked~label.sk-toggleable__label {background-color: #d4ebff;}#sk-container-id-1 input.sk-hidden--visually {border: 0;clip: rect(1px 1px 1px 1px);clip: rect(1px, 1px, 1px, 1px);height: 1px;margin: -1px;overflow: hidden;padding: 0;position: absolute;width: 1px;}#sk-container-id-1 div.sk-estimator {font-family: monospace;background-color: #f0f8ff;border: 1px dotted black;border-radius: 0.25em;box-sizing: border-box;margin-bottom: 0.5em;}#sk-container-id-1 div.sk-estimator:hover {background-color: #d4ebff;}#sk-container-id-1 div.sk-parallel-item::after {content: \"\";width: 100%;border-bottom: 1px solid gray;flex-grow: 1;}#sk-container-id-1 div.sk-label:hover label.sk-toggleable__label {background-color: #d4ebff;}#sk-container-id-1 div.sk-serial::before {content: \"\";position: absolute;border-left: 1px solid gray;box-sizing: border-box;top: 0;bottom: 0;left: 50%;z-index: 0;}#sk-container-id-1 div.sk-serial {display: flex;flex-direction: column;align-items: center;background-color: white;padding-right: 0.2em;padding-left: 0.2em;position: relative;}#sk-container-id-1 div.sk-item {position: relative;z-index: 1;}#sk-container-id-1 div.sk-parallel {display: flex;align-items: stretch;justify-content: center;background-color: white;position: relative;}#sk-container-id-1 div.sk-item::before, #sk-container-id-1 div.sk-parallel-item::before {content: \"\";position: absolute;border-left: 1px solid gray;box-sizing: border-box;top: 0;bottom: 0;left: 50%;z-index: -1;}#sk-container-id-1 div.sk-parallel-item {display: flex;flex-direction: column;z-index: 1;position: relative;background-color: white;}#sk-container-id-1 div.sk-parallel-item:first-child::after {align-self: flex-end;width: 50%;}#sk-container-id-1 div.sk-parallel-item:last-child::after {align-self: flex-start;width: 50%;}#sk-container-id-1 div.sk-parallel-item:only-child::after {width: 0;}#sk-container-id-1 div.sk-dashed-wrapped {border: 1px dashed gray;margin: 0 0.4em 0.5em 0.4em;box-sizing: border-box;padding-bottom: 0.4em;background-color: white;}#sk-container-id-1 div.sk-label label {font-family: monospace;font-weight: bold;display: inline-block;line-height: 1.2em;}#sk-container-id-1 div.sk-label-container {text-align: center;}#sk-container-id-1 div.sk-container {/* jupyter's `normalize.less` sets `[hidden] { display: none; }` but bootstrap.min.css set `[hidden] { display: none !important; }` so we also need the `!important` here to be able to override the default hidden behavior on the sphinx rendered scikit-learn.org. See: https://github.com/scikit-learn/scikit-learn/issues/21755 */display: inline-block !important;position: relative;}#sk-container-id-1 div.sk-text-repr-fallback {display: none;}</style><div id=\"sk-container-id-1\" class=\"sk-top-container\"><div class=\"sk-text-repr-fallback\"><pre>LinearRegression()</pre><b>In a Jupyter environment, please rerun this cell to show the HTML representation or trust the notebook. <br />On GitHub, the HTML representation is unable to render, please try loading this page with nbviewer.org.</b></div><div class=\"sk-container\" hidden><div class=\"sk-item\"><div class=\"sk-estimator sk-toggleable\"><input class=\"sk-toggleable__control sk-hidden--visually\" id=\"sk-estimator-id-1\" type=\"checkbox\" checked><label for=\"sk-estimator-id-1\" class=\"sk-toggleable__label sk-toggleable__label-arrow\">LinearRegression</label><div class=\"sk-toggleable__content\"><pre>LinearRegression()</pre></div></div></div></div></div>"
      ],
      "text/plain": [
       "LinearRegression()"
      ]
     },
     "execution_count": 46,
     "metadata": {},
     "output_type": "execute_result"
    }
   ],
   "source": [
    "lrm = LinearRegression() # creo el modelo Y SE CAMBIA SEGUN EL ALGORITMO\n",
    "lrm.fit(X_train, y_train) # entreno el modelo "
   ]
  },
  {
   "cell_type": "markdown",
   "id": "5831b8df",
   "metadata": {},
   "source": [
    "## 5. Evaluar el modelo "
   ]
  },
  {
   "cell_type": "code",
   "execution_count": 47,
   "id": "ebaa2532",
   "metadata": {},
   "outputs": [
    {
     "name": "stdout",
     "output_type": "stream",
     "text": [
      "0.32673830846446394\n"
     ]
    }
   ],
   "source": [
    "# para calcular el coeficiente de determinación R2\n",
    "score = lrm.score(X_test, y_test)\n",
    "print(score)"
   ]
  },
  {
   "cell_type": "code",
   "execution_count": 48,
   "id": "cf328afd",
   "metadata": {
    "scrolled": true
   },
   "outputs": [
    {
     "name": "stdout",
     "output_type": "stream",
     "text": [
      "Coeficiente de determinacion R2 0.35729912404473374\n"
     ]
    }
   ],
   "source": [
    "print(\"Coeficiente de determinacion R2\", lrm.score(X_train,y_train)) # entrenamiento"
   ]
  },
  {
   "cell_type": "code",
   "execution_count": 48,
   "id": "5bb3d364",
   "metadata": {
    "scrolled": true
   },
   "outputs": [
    {
     "name": "stdout",
     "output_type": "stream",
     "text": [
      "Coeficiente de determinacion R2 0.35729912404473374\n"
     ]
    }
   ],
   "source": [
    "print(\"Coeficiente de determinacion R2\", lrm.error(X_train,y_train)) # entrenamiento"
   ]
  },
  {
   "cell_type": "code",
   "execution_count": 49,
   "id": "e58d686a",
   "metadata": {},
   "outputs": [],
   "source": [
    "# Realizar predicciones utilizando el set de prueba y la función predict.\n",
    "y_pred = lrm.predict(X_test)"
   ]
  },
  {
   "cell_type": "code",
   "execution_count": 50,
   "id": "b6f69660",
   "metadata": {},
   "outputs": [
    {
     "data": {
      "text/plain": [
       "<matplotlib.collections.PathCollection at 0x1a4b14578b0>"
      ]
     },
     "execution_count": 50,
     "metadata": {},
     "output_type": "execute_result"
    },
    {
     "data": {
      "image/png": "[encoded data removed]",
      "text/plain": [
       "<Figure size 640x480 with 1 Axes>"
      ]
     },
     "metadata": {},
     "output_type": "display_data"
    }
   ],
   "source": [
    "plt.scatter(y_test, y_pred)"
   ]
  },
  {
   "cell_type": "code",
   "execution_count": 51,
   "id": "eb86a3f6",
   "metadata": {},
   "outputs": [
    {
     "name": "stdout",
     "output_type": "stream",
     "text": [
      "Coeficiente de determinacion R2 0.32673830846446394\n"
     ]
    }
   ],
   "source": [
    "print(\"Coeficiente de determinacion R2\", lrm.score(X_test,y_test)) # pruebas"
   ]
  },
  {
   "cell_type": "code",
   "execution_count": 52,
   "id": "501fe638",
   "metadata": {},
   "outputs": [
    {
     "name": "stdout",
     "output_type": "stream",
     "text": [
      "Coeficiente de determinacion R2 1.0\n"
     ]
    }
   ],
   "source": [
    "print(\"Coeficiente de determinacion R2\", lrm.score(X_test,y_pred)) # prediccion"
   ]
  },
  {
   "cell_type": "code",
   "execution_count": 53,
   "id": "3ecd2799",
   "metadata": {},
   "outputs": [
    {
     "data": {
      "text/plain": [
       "85502.77079896364"
      ]
     },
     "execution_count": 53,
     "metadata": {},
     "output_type": "execute_result"
    }
   ],
   "source": [
    "# MAE \n",
    "metrics.mean_absolute_error(y_test, y_pred) # data original"
   ]
  },
  {
   "cell_type": "code",
   "execution_count": 54,
   "id": "d348a5fe",
   "metadata": {},
   "outputs": [
    {
     "data": {
      "text/plain": [
       "167356844921.0867"
      ]
     },
     "execution_count": 54,
     "metadata": {},
     "output_type": "execute_result"
    }
   ],
   "source": [
    "# MSE\n",
    "metrics.mean_squared_error(y_test, y_pred)"
   ]
  },
  {
   "cell_type": "code",
   "execution_count": 55,
   "id": "cf7eb033",
   "metadata": {},
   "outputs": [
    {
     "data": {
      "text/plain": [
       "409092.7094450434"
      ]
     },
     "execution_count": 55,
     "metadata": {},
     "output_type": "execute_result"
    }
   ],
   "source": [
    "# RMSE\n",
    "np.sqrt(metrics.mean_squared_error(y_test, y_pred))"
   ]
  },
  {
   "cell_type": "code",
   "execution_count": 56,
   "id": "ea03d594",
   "metadata": {},
   "outputs": [],
   "source": [
    "# Grabamos el modelo en el directorio\n",
    "import pickle\n"
   ]
  },
  {
   "cell_type": "code",
   "execution_count": 57,
   "id": "69ce4678",
   "metadata": {},
   "outputs": [],
   "source": [
    "# Grabamos el modelo en el directorio\n",
    "\n",
    "pkl_filename = \"rLineal(Valor_inv).pkl\"\n",
    "with open(pkl_filename, 'wb') as file:\n",
    "    pickle.dump(lrm, file)"
   ]
  },
  {
   "cell_type": "code",
   "execution_count": null,
   "id": "4622c175",
   "metadata": {},
   "outputs": [],
   "source": []
  }
 ],
 "metadata": {
  "kernelspec": {
   "display_name": "Python 3 (ipykernel)",
   "language": "python",
   "name": "python3"
  },
  "language_info": {
   "codemirror_mode": {
    "name": "ipython",
    "version": 3
   },
   "file_extension": ".py",
   "mimetype": "text/x-python",
   "name": "python",
   "nbconvert_exporter": "python",
   "pygments_lexer": "ipython3",
   "version": "3.10.9"
  },
  "varInspector": {
   "cols": {
    "lenName": 16,
    "lenType": 16,
    "lenVar": 40
   },
   "kernels_config": {
    "python": {
     "delete_cmd_postfix": "",
     "delete_cmd_prefix": "del ",
     "library": "var_list.py",
     "varRefreshCmd": "print(var_dic_list())"
    },
    "r": {
     "delete_cmd_postfix": ") ",
     "delete_cmd_prefix": "rm(",
     "library": "var_list.r",
     "varRefreshCmd": "cat(var_dic_list()) "
    }
   },
   "types_to_exclude": [
    "module",
    "function",
    "builtin_function_or_method",
    "instance",
    "_Feature"
   ],
   "window_display": false
  }
 },
 "nbformat": 4,
 "nbformat_minor": 5
}
